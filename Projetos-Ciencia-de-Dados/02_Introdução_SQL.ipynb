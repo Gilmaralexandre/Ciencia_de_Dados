{
 "cells": [
  {
   "cell_type": "markdown",
   "metadata": {
    "colab_type": "text",
    "id": "view-in-github"
   },
   "source": [
    "<a href=\"https://colab.research.google.com/github/Gilmaralexandre/Data-Science-Begginer/blob/main/DSBEGGINER_Banco_de_dados.ipynb\" target=\"_parent\"><img src=\"https://colab.research.google.com/assets/colab-badge.svg\" alt=\"Open In Colab\"/></a>"
   ]
  },
  {
   "cell_type": "code",
   "execution_count": null,
   "metadata": {},
   "outputs": [],
   "source": [
    "##Notebook aborda conhecimentos introdutórios sobre banco de dados relacionais##"
   ]
  },
  {
   "cell_type": "code",
   "execution_count": null,
   "metadata": {
    "id": "-L-jar-6R0FD",
    "outputId": "cef712cf-6b3f-45d8-91d6-1a773de4ed51"
   },
   "outputs": [
    {
     "name": "stdout",
     "output_type": "stream",
     "text": [
      "<sqlite3.Connection object at 0x00000118DBE6A8A0>\n"
     ]
    }
   ],
   "source": [
    "#importando as libs\n",
    "import sqlite3\n",
    "conn = sqlite3.connect(\"banco_de_dados.db\")\n",
    "print(conn)"
   ]
  },
  {
   "cell_type": "code",
   "execution_count": null,
   "metadata": {
    "id": "9zhLMH4BR0FI"
   },
   "outputs": [],
   "source": [
    "#gerando chaves de conexão\n",
    "cursor = conn.cursor()"
   ]
  },
  {
   "cell_type": "code",
   "execution_count": null,
   "metadata": {
    "id": "2EPiouoQR0FJ",
    "outputId": "762cd619-6905-430b-b1ee-4483c51bbda6"
   },
   "outputs": [
    {
     "data": {
      "text/plain": [
       "<sqlite3.Cursor at 0x118dc0682d0>"
      ]
     },
     "execution_count": 22,
     "metadata": {},
     "output_type": "execute_result"
    }
   ],
   "source": [
    "cursor.execute(\"DROP TABLE dados_profissionais\")"
   ]
  },
  {
   "cell_type": "code",
   "execution_count": null,
   "metadata": {
    "id": "ZNcEaFQ5R0FK",
    "outputId": "7b64b572-ab21-4d42-af7b-c0bcb2d3f88f"
   },
   "outputs": [
    {
     "data": {
      "text/plain": [
       "<sqlite3.Cursor at 0x118dc0682d0>"
      ]
     },
     "execution_count": 6,
     "metadata": {},
     "output_type": "execute_result"
    }
   ],
   "source": [
    "#exercicio01 - criando a tabela, com os nomes das colunas\n",
    "cursor.execute(\"CREATE TABLE dados_cadastrais(Id integer, nome text, sobrenome text, data_nasci integer, cof integer, endereço text)\")"
   ]
  },
  {
   "cell_type": "code",
   "execution_count": null,
   "metadata": {
    "id": "etMVMaGGR0FL",
    "outputId": "2fedb860-f1c6-47bb-c8b2-dfdcd91eba20"
   },
   "outputs": [
    {
     "data": {
      "text/plain": [
       "<sqlite3.Cursor at 0x118dc0682d0>"
      ]
     },
     "execution_count": 23,
     "metadata": {},
     "output_type": "execute_result"
    }
   ],
   "source": [
    "cursor.execute(\"CREATE TABLE dados_profissionais(id integer, graduacao text, cargo text, salario integer, tempo_de_casa integer)\")"
   ]
  },
  {
   "cell_type": "code",
   "execution_count": null,
   "metadata": {
    "id": "DBo6X84XR0FM",
    "outputId": "fdf36755-6ee3-4c21-c3cd-5d623cb15c98"
   },
   "outputs": [
    {
     "data": {
      "text/plain": [
       "[('dados_cadastrais',), ('dados_profissionais',)]"
      ]
     },
     "execution_count": 24,
     "metadata": {},
     "output_type": "execute_result"
    }
   ],
   "source": [
    "#imprimindo o nome das tabelas criadas\n",
    "cursor.execute('SELECT name from sqlite_master where type = \"table\"')\n",
    "cursor.fetchall()"
   ]
  },
  {
   "cell_type": "code",
   "execution_count": null,
   "metadata": {
    "id": "UgAQgaSaR0FN",
    "outputId": "e42106be-793d-4cae-a79d-a7dec0df0250"
   },
   "outputs": [
    {
     "data": {
      "text/plain": [
       "[(1, 'gilmar', 'alexandre', 19970605, 12345678911, 'rua um'),\n",
       " (2, 'joao', 'vitor', 1988, 12345678912, 'rua dois'),\n",
       " (3, 'gilson', 'junior', 1973, 12345678913, 'rua tres'),\n",
       " (4, 'luiza', 'vitoria', 2003, 12345678915, 'rua cinco')]"
      ]
     },
     "execution_count": 12,
     "metadata": {},
     "output_type": "execute_result"
    }
   ],
   "source": [
    "#dados da tabela1\n",
    "cursor.execute(\"SELECT * FROM dados_cadastrais\")\n",
    "cursor.fetchall()"
   ]
  },
  {
   "cell_type": "code",
   "execution_count": null,
   "metadata": {
    "id": "puQMqY5uR0FM"
   },
   "outputs": [],
   "source": [
    "#Inserindo informações na tabela\n",
    "cursor.execute(\"INSERT INTO dados_cadastrais VALUES(1, 'gilmar', 'alexandre', 19970605, 12345678911, 'rua um')\")\n",
    "cursor.execute(\"INSERT INTO dados_cadastrais VALUES(2, 'joao', 'vitor', 1997-08-01, 12345678912, 'rua dois')\")\n",
    "cursor.execute(\"INSERT INTO dados_cadastrais VALUES(3, 'gilson', 'junior', 1994-05-16, 12345678913, 'rua tres')\")\n",
    "cursor.execute(\"INSERT INTO dados_cadastrais VALUES(4, 'luiza', 'vitoria', 2015-10-02, 12345678915, 'rua cinco')\")\n",
    "conn.commit()\n"
   ]
  },
  {
   "cell_type": "code",
   "execution_count": null,
   "metadata": {
    "id": "mQzirWuoR0FO"
   },
   "outputs": [],
   "source": [
    "#Inserindo informações na tabela\n",
    "cursor.execute(\"INSERT INTO dados_profissionais VALUES(1, 'matematica', 'cientista de dados', 6000, 2)\")\n",
    "cursor.execute(\"INSERT INTO dados_profissionais VALUES(2, 'finanças', 'conferencista', 1822, 3)\")\n",
    "cursor.execute(\"INSERT INTO dados_profissionais Values(3, 'arquitetura', 'arquiteto', 5544, 2)\")\n",
    "cursor.execute(\"INSERT INTO dados_profissionais VALUES(4, 'moda', 'artista', 6577, 3)\")\n",
    "conn.commit()"
   ]
  },
  {
   "cell_type": "code",
   "execution_count": null,
   "metadata": {
    "id": "fjMA6ZF3R0FP",
    "outputId": "49707b57-6509-4efe-f87c-4826e713f932"
   },
   "outputs": [
    {
     "data": {
      "text/plain": [
       "[(1, 'matematica', 'cientista de dados', 6000, 2),\n",
       " (2, 'finanças', 'conferencista', 1822, 3),\n",
       " (3, 'arquitetura', 'arquiteto', 5544, 2),\n",
       " (4, 'moda', 'artista', 6577, 3)]"
      ]
     },
     "execution_count": 28,
     "metadata": {},
     "output_type": "execute_result"
    }
   ],
   "source": [
    "#select all from dados_profissionais\n",
    "cursor.execute(\"SELECT * FROM dados_profissionais\")\n",
    "cursor.fetchall()"
   ]
  },
  {
   "cell_type": "code",
   "execution_count": null,
   "metadata": {
    "id": "u77eo3bhR0FQ",
    "outputId": "a97f2fa6-6e20-443d-ddda-fae0befc6983"
   },
   "outputs": [
    {
     "data": {
      "text/plain": [
       "[(1, 'matematica', 'cientista de dados', 6000, 2),\n",
       " (3, 'arquitetura', 'arquiteto', 5544, 2),\n",
       " (2, 'finanças', 'conferencista', 1822, 3),\n",
       " (4, 'moda', 'artista', 6577, 3)]"
      ]
     },
     "execution_count": 29,
     "metadata": {},
     "output_type": "execute_result"
    }
   ],
   "source": [
    "#exercicio02\n",
    "#selecionando dados da tabela e filtrando pelo tempo de casa\n",
    "cursor.execute(\"SELECT id, graduacao, cargo, salario, tempo_de_casa FROM dados_profissionais ORDER BY tempo_de_casa\")\n",
    "cursor.fetchall()"
   ]
  },
  {
   "cell_type": "code",
   "execution_count": null,
   "metadata": {
    "id": "Ud9Fv3RFR0FQ",
    "outputId": "a66e03c4-1ba1-4d24-cc88-a0f69e38a151"
   },
   "outputs": [
    {
     "data": {
      "text/plain": [
       "[(4,)]"
      ]
     },
     "execution_count": 32,
     "metadata": {},
     "output_type": "execute_result"
    }
   ],
   "source": [
    "#exercicio03\n",
    "#contando quantos ids possui na tabela\n",
    "cursor.execute(\"SELECT COUNT(id) FROM dados_cadastrais\")\n",
    "cursor.fetchall()"
   ]
  },
  {
   "cell_type": "code",
   "execution_count": null,
   "metadata": {
    "id": "IFUII7wSR0FR"
   },
   "outputs": [],
   "source": [
    "#exercicio04\n",
    "#inserindo novos dados e comitando alterações\n",
    "cursor.execute(\"INSERT INTO dados_cadastrais VALUES(1, 'gilmar', 'silva', 19970605, 12345678911, 'rua um')\")\n",
    "cursor.execute(\"INSERT INTO dados_cadastrais VALUES(2, 'joao', 'vitor', 1997-08-01, 12345678912, 'rua dois')\")\n",
    "cursor.execute(\"INSERT INTO dados_cadastrais VALUES(3, 'gilson', 'silva', 1994-05-16, 12345678913, 'rua tres')\")\n",
    "cursor.execute(\"INSERT INTO dados_cadastrais VALUES(4, 'luiza', 'silva', 2015-10-02, 12345678915, 'rua cinco')\")\n",
    "conn.commit()"
   ]
  },
  {
   "cell_type": "code",
   "execution_count": null,
   "metadata": {
    "id": "wjw6OQiIR0FS",
    "outputId": "d4b0edc5-6b5a-413c-8aef-fd914ab22962"
   },
   "outputs": [
    {
     "data": {
      "text/plain": [
       "[('gilmar', 'silva', 19970605, 12345678911, 'rua um'),\n",
       " ('gilson', 'silva', 1973, 12345678913, 'rua tres'),\n",
       " ('luiza', 'silva', 2003, 12345678915, 'rua cinco')]"
      ]
     },
     "execution_count": 37,
     "metadata": {},
     "output_type": "execute_result"
    }
   ],
   "source": [
    "cursor.execute(\"SELECT nome, sobrenome, data_nasci, cof, endereço FROM dados_cadastrais WHERE sobrenome == 'silva' ORDER BY nome, sobrenome\")\n",
    "cursor.fetchall()"
   ]
  },
  {
   "cell_type": "code",
   "execution_count": null,
   "metadata": {
    "id": "x5kvI2d3R0FT",
    "outputId": "a71407b3-0f88-4d13-9f2b-74df8e303ee0"
   },
   "outputs": [
    {
     "data": {
      "text/plain": [
       "[(19943,)]"
      ]
     },
     "execution_count": 38,
     "metadata": {},
     "output_type": "execute_result"
    }
   ],
   "source": [
    "#exercicio05\n",
    "#somando todos os salarios\n",
    "cursor.execute(\"SELECT SUM(salario) FROM dados_profissionais\")\n",
    "cursor.fetchall()"
   ]
  },
  {
   "cell_type": "code",
   "execution_count": null,
   "metadata": {
    "id": "k-ShowdaR0FT"
   },
   "outputs": [],
   "source": []
  }
 ],
 "metadata": {
  "colab": {
   "include_colab_link": true,
   "name": "DSBEGGINER - Banco de dados.ipynb",
   "provenance": []
  },
  "kernelspec": {
   "display_name": "Python 3 (ipykernel)",
   "language": "python",
   "name": "python3"
  },
  "language_info": {
   "codemirror_mode": {
    "name": "ipython",
    "version": 3
   },
   "file_extension": ".py",
   "mimetype": "text/x-python",
   "name": "python",
   "nbconvert_exporter": "python",
   "pygments_lexer": "ipython3",
   "version": "3.9.7"
  }
 },
 "nbformat": 4,
 "nbformat_minor": 1
}
