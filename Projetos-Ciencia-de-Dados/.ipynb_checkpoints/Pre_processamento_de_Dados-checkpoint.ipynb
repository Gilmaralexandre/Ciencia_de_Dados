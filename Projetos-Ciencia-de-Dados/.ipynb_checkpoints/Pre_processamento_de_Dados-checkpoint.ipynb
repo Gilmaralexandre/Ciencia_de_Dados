{
 "cells": [
  {
   "cell_type": "markdown",
   "metadata": {
    "colab_type": "text",
    "id": "view-in-github"
   },
   "source": [
    "<a href=\"https://colab.research.google.com/github/Gilmaralexandre/Data-Science-Begginer/blob/main/Modulo_7_Pre_processamento_de_Dados_Exercicio.ipynb\" target=\"_parent\"><img src=\"https://colab.research.google.com/assets/colab-badge.svg\" alt=\"Open In Colab\"/></a>"
   ]
  },
  {
   "cell_type": "code",
   "execution_count": null,
   "metadata": {
    "id": "0D_cTNi8A_6O"
   },
   "outputs": [],
   "source": [
    "import pandas as pd\n",
    "import numpy as np\n",
    "import matplotlib.pyplot as plt"
   ]
  },
  {
   "cell_type": "code",
   "execution_count": null,
   "metadata": {
    "id": "MmIJY0OUA_6V",
    "outputId": "8c970282-bbd5-42ce-8b62-6fbf8af888b1"
   },
   "outputs": [
    {
     "data": {
      "text/html": [
       "<div>\n",
       "<style scoped>\n",
       "    .dataframe tbody tr th:only-of-type {\n",
       "        vertical-align: middle;\n",
       "    }\n",
       "\n",
       "    .dataframe tbody tr th {\n",
       "        vertical-align: top;\n",
       "    }\n",
       "\n",
       "    .dataframe thead th {\n",
       "        text-align: right;\n",
       "    }\n",
       "</style>\n",
       "<table border=\"1\" class=\"dataframe\">\n",
       "  <thead>\n",
       "    <tr style=\"text-align: right;\">\n",
       "      <th></th>\n",
       "      <th>idade</th>\n",
       "      <th>tempo_educacao</th>\n",
       "      <th>estado_civil</th>\n",
       "      <th>cor</th>\n",
       "      <th>sexo</th>\n",
       "      <th>horas_por_semana</th>\n",
       "      <th>salario_anual</th>\n",
       "      <th>nome</th>\n",
       "      <th>dívida</th>\n",
       "    </tr>\n",
       "  </thead>\n",
       "  <tbody>\n",
       "    <tr>\n",
       "      <th>0</th>\n",
       "      <td>39.0</td>\n",
       "      <td>13</td>\n",
       "      <td>Never-married</td>\n",
       "      <td>White</td>\n",
       "      <td>Male</td>\n",
       "      <td>40</td>\n",
       "      <td>&lt;=50K</td>\n",
       "      <td>NaN</td>\n",
       "      <td>NaN</td>\n",
       "    </tr>\n",
       "    <tr>\n",
       "      <th>1</th>\n",
       "      <td>50.0</td>\n",
       "      <td>13</td>\n",
       "      <td>Married-civ-spouse</td>\n",
       "      <td>White</td>\n",
       "      <td>Male</td>\n",
       "      <td>13</td>\n",
       "      <td>&lt;=50K</td>\n",
       "      <td>NaN</td>\n",
       "      <td>NaN</td>\n",
       "    </tr>\n",
       "    <tr>\n",
       "      <th>2</th>\n",
       "      <td>38.0</td>\n",
       "      <td>9</td>\n",
       "      <td>Divorced</td>\n",
       "      <td>White</td>\n",
       "      <td>Male</td>\n",
       "      <td>40</td>\n",
       "      <td>&lt;=50K</td>\n",
       "      <td>NaN</td>\n",
       "      <td>NaN</td>\n",
       "    </tr>\n",
       "    <tr>\n",
       "      <th>3</th>\n",
       "      <td>53.0</td>\n",
       "      <td>7</td>\n",
       "      <td>Married-civ-spouse</td>\n",
       "      <td>Black</td>\n",
       "      <td>Male</td>\n",
       "      <td>40</td>\n",
       "      <td>&lt;=50K</td>\n",
       "      <td>NaN</td>\n",
       "      <td>NaN</td>\n",
       "    </tr>\n",
       "    <tr>\n",
       "      <th>4</th>\n",
       "      <td>37.0</td>\n",
       "      <td>14</td>\n",
       "      <td>Married-civ-spouse</td>\n",
       "      <td>White</td>\n",
       "      <td>Female</td>\n",
       "      <td>40</td>\n",
       "      <td>&lt;=50K</td>\n",
       "      <td>NaN</td>\n",
       "      <td>NaN</td>\n",
       "    </tr>\n",
       "  </tbody>\n",
       "</table>\n",
       "</div>"
      ],
      "text/plain": [
       "   idade  tempo_educacao        estado_civil    cor    sexo  horas_por_semana  \\\n",
       "0   39.0              13       Never-married  White    Male                40   \n",
       "1   50.0              13  Married-civ-spouse  White    Male                13   \n",
       "2   38.0               9            Divorced  White    Male                40   \n",
       "3   53.0               7  Married-civ-spouse  Black    Male                40   \n",
       "4   37.0              14  Married-civ-spouse  White  Female                40   \n",
       "\n",
       "  salario_anual  nome  dívida  \n",
       "0         <=50K   NaN     NaN  \n",
       "1         <=50K   NaN     NaN  \n",
       "2         <=50K   NaN     NaN  \n",
       "3         <=50K   NaN     NaN  \n",
       "4         <=50K   NaN     NaN  "
      ]
     },
     "execution_count": 2,
     "metadata": {},
     "output_type": "execute_result"
    }
   ],
   "source": [
    "df = pd.read_csv(\"dataframe_exercicio_modulo_7.csv\")\n",
    "df.head()"
   ]
  },
  {
   "cell_type": "code",
   "execution_count": null,
   "metadata": {
    "id": "lgh5hDfRA_6b",
    "outputId": "61c3a302-ce7b-466d-c18f-141a111b01d6"
   },
   "outputs": [
    {
     "data": {
      "text/plain": [
       "(29170, 9)"
      ]
     },
     "execution_count": 3,
     "metadata": {},
     "output_type": "execute_result"
    }
   ],
   "source": [
    "#2 - Quais as dimensões do dataframe?\n",
    "df.shape"
   ]
  },
  {
   "cell_type": "code",
   "execution_count": null,
   "metadata": {
    "id": "2SzPpgv_A_6c",
    "outputId": "cf8347be-a6f7-45f6-bbfd-18c1ccddbe81"
   },
   "outputs": [
    {
     "data": {
      "text/plain": [
       "Index(['idade', 'tempo_educacao', 'estado_civil', 'cor', 'sexo',\n",
       "       'horas_por_semana', 'salario_anual', 'nome', 'dívida'],\n",
       "      dtype='object')"
      ]
     },
     "execution_count": 4,
     "metadata": {},
     "output_type": "execute_result"
    }
   ],
   "source": [
    "#3 - Qual o tipo das variáveis?\n",
    "df.columns"
   ]
  },
  {
   "cell_type": "code",
   "execution_count": null,
   "metadata": {
    "id": "Ba9vcxvJA_6d",
    "outputId": "ebf14c6a-c156-4caf-8e08-ff697d30e337"
   },
   "outputs": [
    {
     "data": {
      "text/plain": [
       "idade                  99\n",
       "tempo_educacao          0\n",
       "estado_civil            0\n",
       "cor                     0\n",
       "sexo                    0\n",
       "horas_por_semana        0\n",
       "salario_anual           0\n",
       "nome                29170\n",
       "dívida              29170\n",
       "dtype: int64"
      ]
     },
     "execution_count": 5,
     "metadata": {},
     "output_type": "execute_result"
    }
   ],
   "source": [
    "#4 - Existem variáveis faltantes no dataset? Quais?\n",
    "df.isnull().sum()\n",
    "#variaveis idade, nome, divida estão com informações nulas."
   ]
  },
  {
   "cell_type": "code",
   "execution_count": null,
   "metadata": {
    "id": "mCaVAo3aA_6e",
    "outputId": "5adf2b27-731b-4c3b-e906-aff4863fdeaa"
   },
   "outputs": [
    {
     "data": {
      "text/html": [
       "<div>\n",
       "<style scoped>\n",
       "    .dataframe tbody tr th:only-of-type {\n",
       "        vertical-align: middle;\n",
       "    }\n",
       "\n",
       "    .dataframe tbody tr th {\n",
       "        vertical-align: top;\n",
       "    }\n",
       "\n",
       "    .dataframe thead th {\n",
       "        text-align: right;\n",
       "    }\n",
       "</style>\n",
       "<table border=\"1\" class=\"dataframe\">\n",
       "  <thead>\n",
       "    <tr style=\"text-align: right;\">\n",
       "      <th></th>\n",
       "      <th>idade</th>\n",
       "      <th>tempo_educacao</th>\n",
       "      <th>horas_por_semana</th>\n",
       "      <th>nome</th>\n",
       "      <th>dívida</th>\n",
       "    </tr>\n",
       "  </thead>\n",
       "  <tbody>\n",
       "    <tr>\n",
       "      <th>count</th>\n",
       "      <td>29071.000000</td>\n",
       "      <td>29170.000000</td>\n",
       "      <td>29170.000000</td>\n",
       "      <td>0.0</td>\n",
       "      <td>0.0</td>\n",
       "    </tr>\n",
       "    <tr>\n",
       "      <th>mean</th>\n",
       "      <td>38.654088</td>\n",
       "      <td>10.169455</td>\n",
       "      <td>40.447755</td>\n",
       "      <td>NaN</td>\n",
       "      <td>NaN</td>\n",
       "    </tr>\n",
       "    <tr>\n",
       "      <th>std</th>\n",
       "      <td>13.720345</td>\n",
       "      <td>2.394966</td>\n",
       "      <td>12.417203</td>\n",
       "      <td>NaN</td>\n",
       "      <td>NaN</td>\n",
       "    </tr>\n",
       "    <tr>\n",
       "      <th>min</th>\n",
       "      <td>17.000000</td>\n",
       "      <td>1.000000</td>\n",
       "      <td>1.000000</td>\n",
       "      <td>NaN</td>\n",
       "      <td>NaN</td>\n",
       "    </tr>\n",
       "    <tr>\n",
       "      <th>25%</th>\n",
       "      <td>28.000000</td>\n",
       "      <td>9.000000</td>\n",
       "      <td>40.000000</td>\n",
       "      <td>NaN</td>\n",
       "      <td>NaN</td>\n",
       "    </tr>\n",
       "    <tr>\n",
       "      <th>50%</th>\n",
       "      <td>37.000000</td>\n",
       "      <td>10.000000</td>\n",
       "      <td>40.000000</td>\n",
       "      <td>NaN</td>\n",
       "      <td>NaN</td>\n",
       "    </tr>\n",
       "    <tr>\n",
       "      <th>75%</th>\n",
       "      <td>48.000000</td>\n",
       "      <td>12.000000</td>\n",
       "      <td>45.000000</td>\n",
       "      <td>NaN</td>\n",
       "      <td>NaN</td>\n",
       "    </tr>\n",
       "    <tr>\n",
       "      <th>max</th>\n",
       "      <td>90.000000</td>\n",
       "      <td>16.000000</td>\n",
       "      <td>99.000000</td>\n",
       "      <td>NaN</td>\n",
       "      <td>NaN</td>\n",
       "    </tr>\n",
       "  </tbody>\n",
       "</table>\n",
       "</div>"
      ],
      "text/plain": [
       "              idade  tempo_educacao  horas_por_semana  nome  dívida\n",
       "count  29071.000000    29170.000000      29170.000000   0.0     0.0\n",
       "mean      38.654088       10.169455         40.447755   NaN     NaN\n",
       "std       13.720345        2.394966         12.417203   NaN     NaN\n",
       "min       17.000000        1.000000          1.000000   NaN     NaN\n",
       "25%       28.000000        9.000000         40.000000   NaN     NaN\n",
       "50%       37.000000       10.000000         40.000000   NaN     NaN\n",
       "75%       48.000000       12.000000         45.000000   NaN     NaN\n",
       "max       90.000000       16.000000         99.000000   NaN     NaN"
      ]
     },
     "execution_count": 6,
     "metadata": {},
     "output_type": "execute_result"
    }
   ],
   "source": [
    "#descrição\n",
    "df.describe()"
   ]
  },
  {
   "cell_type": "code",
   "execution_count": null,
   "metadata": {
    "id": "CZiFs3OaA_6g",
    "outputId": "e5eab661-2d40-4e1c-df84-bcf2b2ec773b"
   },
   "outputs": [
    {
     "data": {
      "text/plain": [
       "Married-civ-spouse       13368\n",
       "Never-married             9579\n",
       "Divorced                  4162\n",
       "Widowed                    902\n",
       "Separated                  883\n",
       "Married-spouse-absent      253\n",
       "Married-AF-spouse           23\n",
       "Name: estado_civil, dtype: int64"
      ]
     },
     "execution_count": 7,
     "metadata": {},
     "output_type": "execute_result"
    }
   ],
   "source": [
    "#5 - Exiba todas as categorias das variáveis 'estado_civil', 'cor' e 'sexo'. Você consegue detectar algum problema?\n",
    "df['estado_civil'].value_counts()    "
   ]
  },
  {
   "cell_type": "code",
   "execution_count": null,
   "metadata": {
    "id": "QS32t5vrA_6i",
    "outputId": "01921fdd-9e2e-4392-d1c2-da418b23b069"
   },
   "outputs": [
    {
     "data": {
      "text/plain": [
       "Male      18181\n",
       "Female     9052\n",
       "?          1937\n",
       "Name: sexo, dtype: int64"
      ]
     },
     "execution_count": 8,
     "metadata": {},
     "output_type": "execute_result"
    }
   ],
   "source": [
    "df['sexo'].value_counts()\n",
    "#variavel sexo está com valores representados por um sinal de interrogação."
   ]
  },
  {
   "cell_type": "code",
   "execution_count": null,
   "metadata": {
    "id": "DCo1xAwXA_6j",
    "outputId": "195e59f3-ffca-4228-f4cc-c16f26c8cc91"
   },
   "outputs": [
    {
     "data": {
      "text/plain": [
       "White                 25621\n",
       "Black                  2832\n",
       "Amer-Indian-Eskimo      296\n",
       "Asian-Pac-Islander      292\n",
       "Other                   129\n",
       "Name: cor, dtype: int64"
      ]
     },
     "execution_count": 9,
     "metadata": {},
     "output_type": "execute_result"
    }
   ],
   "source": [
    "df['cor'].value_counts()"
   ]
  },
  {
   "cell_type": "code",
   "execution_count": null,
   "metadata": {
    "id": "fuAo-YPRA_6k",
    "outputId": "3b931fe7-1a27-46da-cd1d-3d56560acc0e"
   },
   "outputs": [
    {
     "data": {
      "text/plain": [
       "idade                  99\n",
       "tempo_educacao          0\n",
       "estado_civil            0\n",
       "cor                     0\n",
       "sexo                    0\n",
       "horas_por_semana        0\n",
       "salario_anual           0\n",
       "nome                29170\n",
       "dívida              29170\n",
       "dtype: int64"
      ]
     },
     "execution_count": 10,
     "metadata": {},
     "output_type": "execute_result"
    }
   ],
   "source": [
    "#6 - Faça um tratamento nas variáveis faltantes.\n",
    "df.isnull().sum()"
   ]
  },
  {
   "cell_type": "code",
   "execution_count": null,
   "metadata": {
    "id": "7xEvP25IA_6m",
    "outputId": "56b3a9d3-a66e-4fd8-f93a-05ddf5d66f2c"
   },
   "outputs": [
    {
     "data": {
      "text/html": [
       "<div>\n",
       "<style scoped>\n",
       "    .dataframe tbody tr th:only-of-type {\n",
       "        vertical-align: middle;\n",
       "    }\n",
       "\n",
       "    .dataframe tbody tr th {\n",
       "        vertical-align: top;\n",
       "    }\n",
       "\n",
       "    .dataframe thead th {\n",
       "        text-align: right;\n",
       "    }\n",
       "</style>\n",
       "<table border=\"1\" class=\"dataframe\">\n",
       "  <thead>\n",
       "    <tr style=\"text-align: right;\">\n",
       "      <th></th>\n",
       "      <th>idade</th>\n",
       "      <th>tempo_educacao</th>\n",
       "      <th>estado_civil</th>\n",
       "      <th>cor</th>\n",
       "      <th>sexo</th>\n",
       "      <th>horas_por_semana</th>\n",
       "      <th>salario_anual</th>\n",
       "    </tr>\n",
       "  </thead>\n",
       "  <tbody>\n",
       "    <tr>\n",
       "      <th>29165</th>\n",
       "      <td>27.0</td>\n",
       "      <td>12</td>\n",
       "      <td>Married-civ-spouse</td>\n",
       "      <td>White</td>\n",
       "      <td>Female</td>\n",
       "      <td>38</td>\n",
       "      <td>&lt;=50K</td>\n",
       "    </tr>\n",
       "    <tr>\n",
       "      <th>29166</th>\n",
       "      <td>40.0</td>\n",
       "      <td>9</td>\n",
       "      <td>Married-civ-spouse</td>\n",
       "      <td>White</td>\n",
       "      <td>Male</td>\n",
       "      <td>40</td>\n",
       "      <td>&gt;50K</td>\n",
       "    </tr>\n",
       "    <tr>\n",
       "      <th>29167</th>\n",
       "      <td>58.0</td>\n",
       "      <td>9</td>\n",
       "      <td>Widowed</td>\n",
       "      <td>White</td>\n",
       "      <td>Female</td>\n",
       "      <td>40</td>\n",
       "      <td>&lt;=50K</td>\n",
       "    </tr>\n",
       "    <tr>\n",
       "      <th>29168</th>\n",
       "      <td>22.0</td>\n",
       "      <td>9</td>\n",
       "      <td>Never-married</td>\n",
       "      <td>White</td>\n",
       "      <td>Male</td>\n",
       "      <td>20</td>\n",
       "      <td>&lt;=50K</td>\n",
       "    </tr>\n",
       "    <tr>\n",
       "      <th>29169</th>\n",
       "      <td>52.0</td>\n",
       "      <td>9</td>\n",
       "      <td>Married-civ-spouse</td>\n",
       "      <td>White</td>\n",
       "      <td>Female</td>\n",
       "      <td>40</td>\n",
       "      <td>&gt;50K</td>\n",
       "    </tr>\n",
       "  </tbody>\n",
       "</table>\n",
       "</div>"
      ],
      "text/plain": [
       "       idade  tempo_educacao        estado_civil    cor    sexo  \\\n",
       "29165   27.0              12  Married-civ-spouse  White  Female   \n",
       "29166   40.0               9  Married-civ-spouse  White    Male   \n",
       "29167   58.0               9             Widowed  White  Female   \n",
       "29168   22.0               9       Never-married  White    Male   \n",
       "29169   52.0               9  Married-civ-spouse  White  Female   \n",
       "\n",
       "       horas_por_semana salario_anual  \n",
       "29165                38         <=50K  \n",
       "29166                40          >50K  \n",
       "29167                40         <=50K  \n",
       "29168                20         <=50K  \n",
       "29169                40          >50K  "
      ]
     },
     "execution_count": 11,
     "metadata": {},
     "output_type": "execute_result"
    }
   ],
   "source": [
    "#dropando colunas nome e divida\n",
    "df_limpo = df.drop(['nome','dívida'],axis=1)\n",
    "df_limpo.tail(5)"
   ]
  },
  {
   "cell_type": "code",
   "execution_count": null,
   "metadata": {
    "id": "BIktaroqA_6n"
   },
   "outputs": [],
   "source": [
    "#Complementando a coluna idade com a média\n",
    "media_id = df['idade'].mean()"
   ]
  },
  {
   "cell_type": "code",
   "execution_count": null,
   "metadata": {
    "id": "sQOgXyJvA_6n"
   },
   "outputs": [],
   "source": [
    "df_limpo.idade.fillna(media_id,inplace=True)"
   ]
  },
  {
   "cell_type": "code",
   "execution_count": null,
   "metadata": {
    "id": "KPM6ZKXCA_6o",
    "outputId": "cdc5e9d9-6294-402b-84cb-016d4fddaaef"
   },
   "outputs": [
    {
     "data": {
      "text/plain": [
       "idade               0\n",
       "tempo_educacao      0\n",
       "estado_civil        0\n",
       "cor                 0\n",
       "sexo                0\n",
       "horas_por_semana    0\n",
       "salario_anual       0\n",
       "dtype: int64"
      ]
     },
     "execution_count": 14,
     "metadata": {},
     "output_type": "execute_result"
    }
   ],
   "source": [
    "df_limpo.isnull().sum()"
   ]
  },
  {
   "cell_type": "code",
   "execution_count": null,
   "metadata": {
    "id": "8-RgV3LUA_6o",
    "outputId": "c8bca639-d3d4-40a8-e72f-e87efe56d3ef"
   },
   "outputs": [
    {
     "data": {
      "text/plain": [
       "'Male'"
      ]
     },
     "execution_count": 15,
     "metadata": {},
     "output_type": "execute_result"
    }
   ],
   "source": [
    "#Completando a coluna sexo com a moda\n",
    "moda_sexo = df.sexo.value_counts().idxmax()\n",
    "moda_sexo"
   ]
  },
  {
   "cell_type": "code",
   "execution_count": null,
   "metadata": {
    "id": "ki33q6abA_6p",
    "outputId": "4760a555-349a-4511-f9d9-83499099deec"
   },
   "outputs": [
    {
     "data": {
      "text/html": [
       "<div>\n",
       "<style scoped>\n",
       "    .dataframe tbody tr th:only-of-type {\n",
       "        vertical-align: middle;\n",
       "    }\n",
       "\n",
       "    .dataframe tbody tr th {\n",
       "        vertical-align: top;\n",
       "    }\n",
       "\n",
       "    .dataframe thead th {\n",
       "        text-align: right;\n",
       "    }\n",
       "</style>\n",
       "<table border=\"1\" class=\"dataframe\">\n",
       "  <thead>\n",
       "    <tr style=\"text-align: right;\">\n",
       "      <th></th>\n",
       "      <th>idade</th>\n",
       "      <th>tempo_educacao</th>\n",
       "      <th>estado_civil</th>\n",
       "      <th>cor</th>\n",
       "      <th>sexo</th>\n",
       "      <th>horas_por_semana</th>\n",
       "      <th>salario_anual</th>\n",
       "    </tr>\n",
       "  </thead>\n",
       "  <tbody>\n",
       "    <tr>\n",
       "      <th>5</th>\n",
       "      <td>52.0</td>\n",
       "      <td>9</td>\n",
       "      <td>Married-civ-spouse</td>\n",
       "      <td>White</td>\n",
       "      <td>?</td>\n",
       "      <td>45</td>\n",
       "      <td>&gt;50K</td>\n",
       "    </tr>\n",
       "    <tr>\n",
       "      <th>24</th>\n",
       "      <td>23.0</td>\n",
       "      <td>12</td>\n",
       "      <td>Never-married</td>\n",
       "      <td>White</td>\n",
       "      <td>?</td>\n",
       "      <td>52</td>\n",
       "      <td>&lt;=50K</td>\n",
       "    </tr>\n",
       "    <tr>\n",
       "      <th>27</th>\n",
       "      <td>30.0</td>\n",
       "      <td>10</td>\n",
       "      <td>Married-civ-spouse</td>\n",
       "      <td>White</td>\n",
       "      <td>?</td>\n",
       "      <td>40</td>\n",
       "      <td>&lt;=50K</td>\n",
       "    </tr>\n",
       "    <tr>\n",
       "      <th>36</th>\n",
       "      <td>25.0</td>\n",
       "      <td>9</td>\n",
       "      <td>Never-married</td>\n",
       "      <td>White</td>\n",
       "      <td>?</td>\n",
       "      <td>35</td>\n",
       "      <td>&lt;=50K</td>\n",
       "    </tr>\n",
       "    <tr>\n",
       "      <th>63</th>\n",
       "      <td>67.0</td>\n",
       "      <td>6</td>\n",
       "      <td>Married-civ-spouse</td>\n",
       "      <td>White</td>\n",
       "      <td>?</td>\n",
       "      <td>2</td>\n",
       "      <td>&lt;=50K</td>\n",
       "    </tr>\n",
       "    <tr>\n",
       "      <th>...</th>\n",
       "      <td>...</td>\n",
       "      <td>...</td>\n",
       "      <td>...</td>\n",
       "      <td>...</td>\n",
       "      <td>...</td>\n",
       "      <td>...</td>\n",
       "      <td>...</td>\n",
       "    </tr>\n",
       "    <tr>\n",
       "      <th>28943</th>\n",
       "      <td>45.0</td>\n",
       "      <td>9</td>\n",
       "      <td>Married-civ-spouse</td>\n",
       "      <td>White</td>\n",
       "      <td>?</td>\n",
       "      <td>40</td>\n",
       "      <td>&gt;50K</td>\n",
       "    </tr>\n",
       "    <tr>\n",
       "      <th>28955</th>\n",
       "      <td>34.0</td>\n",
       "      <td>13</td>\n",
       "      <td>Married-civ-spouse</td>\n",
       "      <td>White</td>\n",
       "      <td>?</td>\n",
       "      <td>40</td>\n",
       "      <td>&gt;50K</td>\n",
       "    </tr>\n",
       "    <tr>\n",
       "      <th>28981</th>\n",
       "      <td>53.0</td>\n",
       "      <td>11</td>\n",
       "      <td>Married-civ-spouse</td>\n",
       "      <td>White</td>\n",
       "      <td>?</td>\n",
       "      <td>40</td>\n",
       "      <td>&lt;=50K</td>\n",
       "    </tr>\n",
       "    <tr>\n",
       "      <th>28986</th>\n",
       "      <td>23.0</td>\n",
       "      <td>10</td>\n",
       "      <td>Never-married</td>\n",
       "      <td>White</td>\n",
       "      <td>?</td>\n",
       "      <td>15</td>\n",
       "      <td>&lt;=50K</td>\n",
       "    </tr>\n",
       "    <tr>\n",
       "      <th>28989</th>\n",
       "      <td>58.0</td>\n",
       "      <td>9</td>\n",
       "      <td>Married-civ-spouse</td>\n",
       "      <td>White</td>\n",
       "      <td>?</td>\n",
       "      <td>40</td>\n",
       "      <td>&lt;=50K</td>\n",
       "    </tr>\n",
       "  </tbody>\n",
       "</table>\n",
       "<p>1937 rows × 7 columns</p>\n",
       "</div>"
      ],
      "text/plain": [
       "       idade  tempo_educacao        estado_civil    cor sexo  \\\n",
       "5       52.0               9  Married-civ-spouse  White    ?   \n",
       "24      23.0              12       Never-married  White    ?   \n",
       "27      30.0              10  Married-civ-spouse  White    ?   \n",
       "36      25.0               9       Never-married  White    ?   \n",
       "63      67.0               6  Married-civ-spouse  White    ?   \n",
       "...      ...             ...                 ...    ...  ...   \n",
       "28943   45.0               9  Married-civ-spouse  White    ?   \n",
       "28955   34.0              13  Married-civ-spouse  White    ?   \n",
       "28981   53.0              11  Married-civ-spouse  White    ?   \n",
       "28986   23.0              10       Never-married  White    ?   \n",
       "28989   58.0               9  Married-civ-spouse  White    ?   \n",
       "\n",
       "       horas_por_semana salario_anual  \n",
       "5                    45          >50K  \n",
       "24                   52         <=50K  \n",
       "27                   40         <=50K  \n",
       "36                   35         <=50K  \n",
       "63                    2         <=50K  \n",
       "...                 ...           ...  \n",
       "28943                40          >50K  \n",
       "28955                40          >50K  \n",
       "28981                40         <=50K  \n",
       "28986                15         <=50K  \n",
       "28989                40         <=50K  \n",
       "\n",
       "[1937 rows x 7 columns]"
      ]
     },
     "execution_count": 16,
     "metadata": {},
     "output_type": "execute_result"
    }
   ],
   "source": [
    "df_limpo.loc[df_limpo.sexo==\"?\"]"
   ]
  },
  {
   "cell_type": "code",
   "execution_count": null,
   "metadata": {
    "id": "FWYXGPyQA_6q"
   },
   "outputs": [],
   "source": [
    "df_limpo['sexo'] = df_limpo['sexo'].replace(['?'],moda_sexo)"
   ]
  },
  {
   "cell_type": "code",
   "execution_count": null,
   "metadata": {
    "id": "L40UxCq6A_6q",
    "outputId": "f9dec3f4-2c26-4c71-b259-f05b9500b0b4"
   },
   "outputs": [
    {
     "data": {
      "text/html": [
       "<div>\n",
       "<style scoped>\n",
       "    .dataframe tbody tr th:only-of-type {\n",
       "        vertical-align: middle;\n",
       "    }\n",
       "\n",
       "    .dataframe tbody tr th {\n",
       "        vertical-align: top;\n",
       "    }\n",
       "\n",
       "    .dataframe thead th {\n",
       "        text-align: right;\n",
       "    }\n",
       "</style>\n",
       "<table border=\"1\" class=\"dataframe\">\n",
       "  <thead>\n",
       "    <tr style=\"text-align: right;\">\n",
       "      <th></th>\n",
       "      <th>idade</th>\n",
       "      <th>tempo_educacao</th>\n",
       "      <th>estado_civil</th>\n",
       "      <th>cor</th>\n",
       "      <th>sexo</th>\n",
       "      <th>horas_por_semana</th>\n",
       "      <th>salario_anual</th>\n",
       "    </tr>\n",
       "  </thead>\n",
       "  <tbody>\n",
       "    <tr>\n",
       "      <th>28866</th>\n",
       "      <td>22.000000</td>\n",
       "      <td>9</td>\n",
       "      <td>Never-married</td>\n",
       "      <td>White</td>\n",
       "      <td>Female</td>\n",
       "      <td>37</td>\n",
       "      <td>&lt;=50K</td>\n",
       "    </tr>\n",
       "    <tr>\n",
       "      <th>2310</th>\n",
       "      <td>53.000000</td>\n",
       "      <td>9</td>\n",
       "      <td>Married-civ-spouse</td>\n",
       "      <td>White</td>\n",
       "      <td>Male</td>\n",
       "      <td>40</td>\n",
       "      <td>&lt;=50K</td>\n",
       "    </tr>\n",
       "    <tr>\n",
       "      <th>25040</th>\n",
       "      <td>19.000000</td>\n",
       "      <td>10</td>\n",
       "      <td>Never-married</td>\n",
       "      <td>White</td>\n",
       "      <td>Male</td>\n",
       "      <td>12</td>\n",
       "      <td>&lt;=50K</td>\n",
       "    </tr>\n",
       "    <tr>\n",
       "      <th>15271</th>\n",
       "      <td>45.000000</td>\n",
       "      <td>10</td>\n",
       "      <td>Married-civ-spouse</td>\n",
       "      <td>Amer-Indian-Eskimo</td>\n",
       "      <td>Male</td>\n",
       "      <td>40</td>\n",
       "      <td>&lt;=50K</td>\n",
       "    </tr>\n",
       "    <tr>\n",
       "      <th>6084</th>\n",
       "      <td>44.000000</td>\n",
       "      <td>9</td>\n",
       "      <td>Divorced</td>\n",
       "      <td>White</td>\n",
       "      <td>Male</td>\n",
       "      <td>40</td>\n",
       "      <td>&lt;=50K</td>\n",
       "    </tr>\n",
       "    <tr>\n",
       "      <th>2425</th>\n",
       "      <td>56.000000</td>\n",
       "      <td>6</td>\n",
       "      <td>Divorced</td>\n",
       "      <td>White</td>\n",
       "      <td>Male</td>\n",
       "      <td>40</td>\n",
       "      <td>&lt;=50K</td>\n",
       "    </tr>\n",
       "    <tr>\n",
       "      <th>27720</th>\n",
       "      <td>31.000000</td>\n",
       "      <td>9</td>\n",
       "      <td>Divorced</td>\n",
       "      <td>White</td>\n",
       "      <td>Male</td>\n",
       "      <td>50</td>\n",
       "      <td>&lt;=50K</td>\n",
       "    </tr>\n",
       "    <tr>\n",
       "      <th>16788</th>\n",
       "      <td>41.000000</td>\n",
       "      <td>10</td>\n",
       "      <td>Divorced</td>\n",
       "      <td>White</td>\n",
       "      <td>Female</td>\n",
       "      <td>50</td>\n",
       "      <td>&lt;=50K</td>\n",
       "    </tr>\n",
       "    <tr>\n",
       "      <th>18292</th>\n",
       "      <td>48.000000</td>\n",
       "      <td>10</td>\n",
       "      <td>Married-civ-spouse</td>\n",
       "      <td>White</td>\n",
       "      <td>Male</td>\n",
       "      <td>50</td>\n",
       "      <td>&gt;50K</td>\n",
       "    </tr>\n",
       "    <tr>\n",
       "      <th>2453</th>\n",
       "      <td>54.000000</td>\n",
       "      <td>9</td>\n",
       "      <td>Married-civ-spouse</td>\n",
       "      <td>Black</td>\n",
       "      <td>Female</td>\n",
       "      <td>20</td>\n",
       "      <td>&lt;=50K</td>\n",
       "    </tr>\n",
       "    <tr>\n",
       "      <th>13398</th>\n",
       "      <td>32.000000</td>\n",
       "      <td>13</td>\n",
       "      <td>Married-civ-spouse</td>\n",
       "      <td>White</td>\n",
       "      <td>Male</td>\n",
       "      <td>44</td>\n",
       "      <td>&lt;=50K</td>\n",
       "    </tr>\n",
       "    <tr>\n",
       "      <th>16927</th>\n",
       "      <td>31.000000</td>\n",
       "      <td>13</td>\n",
       "      <td>Married-civ-spouse</td>\n",
       "      <td>White</td>\n",
       "      <td>Male</td>\n",
       "      <td>50</td>\n",
       "      <td>&gt;50K</td>\n",
       "    </tr>\n",
       "    <tr>\n",
       "      <th>20541</th>\n",
       "      <td>38.654088</td>\n",
       "      <td>9</td>\n",
       "      <td>Never-married</td>\n",
       "      <td>Black</td>\n",
       "      <td>Male</td>\n",
       "      <td>30</td>\n",
       "      <td>&lt;=50K</td>\n",
       "    </tr>\n",
       "    <tr>\n",
       "      <th>2353</th>\n",
       "      <td>23.000000</td>\n",
       "      <td>9</td>\n",
       "      <td>Never-married</td>\n",
       "      <td>White</td>\n",
       "      <td>Female</td>\n",
       "      <td>40</td>\n",
       "      <td>&lt;=50K</td>\n",
       "    </tr>\n",
       "    <tr>\n",
       "      <th>27356</th>\n",
       "      <td>47.000000</td>\n",
       "      <td>13</td>\n",
       "      <td>Married-civ-spouse</td>\n",
       "      <td>White</td>\n",
       "      <td>Male</td>\n",
       "      <td>50</td>\n",
       "      <td>&gt;50K</td>\n",
       "    </tr>\n",
       "    <tr>\n",
       "      <th>27062</th>\n",
       "      <td>59.000000</td>\n",
       "      <td>14</td>\n",
       "      <td>Widowed</td>\n",
       "      <td>White</td>\n",
       "      <td>Female</td>\n",
       "      <td>60</td>\n",
       "      <td>&gt;50K</td>\n",
       "    </tr>\n",
       "    <tr>\n",
       "      <th>19561</th>\n",
       "      <td>37.000000</td>\n",
       "      <td>10</td>\n",
       "      <td>Married-civ-spouse</td>\n",
       "      <td>Black</td>\n",
       "      <td>Male</td>\n",
       "      <td>50</td>\n",
       "      <td>&lt;=50K</td>\n",
       "    </tr>\n",
       "    <tr>\n",
       "      <th>8573</th>\n",
       "      <td>19.000000</td>\n",
       "      <td>10</td>\n",
       "      <td>Never-married</td>\n",
       "      <td>White</td>\n",
       "      <td>Female</td>\n",
       "      <td>26</td>\n",
       "      <td>&lt;=50K</td>\n",
       "    </tr>\n",
       "    <tr>\n",
       "      <th>28901</th>\n",
       "      <td>51.000000</td>\n",
       "      <td>9</td>\n",
       "      <td>Married-civ-spouse</td>\n",
       "      <td>White</td>\n",
       "      <td>Male</td>\n",
       "      <td>30</td>\n",
       "      <td>&lt;=50K</td>\n",
       "    </tr>\n",
       "    <tr>\n",
       "      <th>1581</th>\n",
       "      <td>53.000000</td>\n",
       "      <td>9</td>\n",
       "      <td>Married-civ-spouse</td>\n",
       "      <td>Black</td>\n",
       "      <td>Male</td>\n",
       "      <td>45</td>\n",
       "      <td>&gt;50K</td>\n",
       "    </tr>\n",
       "    <tr>\n",
       "      <th>6582</th>\n",
       "      <td>35.000000</td>\n",
       "      <td>10</td>\n",
       "      <td>Married-civ-spouse</td>\n",
       "      <td>White</td>\n",
       "      <td>Male</td>\n",
       "      <td>58</td>\n",
       "      <td>&lt;=50K</td>\n",
       "    </tr>\n",
       "    <tr>\n",
       "      <th>15146</th>\n",
       "      <td>50.000000</td>\n",
       "      <td>10</td>\n",
       "      <td>Divorced</td>\n",
       "      <td>Black</td>\n",
       "      <td>Female</td>\n",
       "      <td>40</td>\n",
       "      <td>&lt;=50K</td>\n",
       "    </tr>\n",
       "    <tr>\n",
       "      <th>14913</th>\n",
       "      <td>40.000000</td>\n",
       "      <td>6</td>\n",
       "      <td>Married-civ-spouse</td>\n",
       "      <td>Black</td>\n",
       "      <td>Male</td>\n",
       "      <td>40</td>\n",
       "      <td>&lt;=50K</td>\n",
       "    </tr>\n",
       "    <tr>\n",
       "      <th>15953</th>\n",
       "      <td>39.000000</td>\n",
       "      <td>10</td>\n",
       "      <td>Never-married</td>\n",
       "      <td>Black</td>\n",
       "      <td>Female</td>\n",
       "      <td>40</td>\n",
       "      <td>&lt;=50K</td>\n",
       "    </tr>\n",
       "    <tr>\n",
       "      <th>16506</th>\n",
       "      <td>25.000000</td>\n",
       "      <td>9</td>\n",
       "      <td>Never-married</td>\n",
       "      <td>White</td>\n",
       "      <td>Male</td>\n",
       "      <td>40</td>\n",
       "      <td>&lt;=50K</td>\n",
       "    </tr>\n",
       "  </tbody>\n",
       "</table>\n",
       "</div>"
      ],
      "text/plain": [
       "           idade  tempo_educacao        estado_civil                 cor  \\\n",
       "28866  22.000000               9       Never-married               White   \n",
       "2310   53.000000               9  Married-civ-spouse               White   \n",
       "25040  19.000000              10       Never-married               White   \n",
       "15271  45.000000              10  Married-civ-spouse  Amer-Indian-Eskimo   \n",
       "6084   44.000000               9            Divorced               White   \n",
       "2425   56.000000               6            Divorced               White   \n",
       "27720  31.000000               9            Divorced               White   \n",
       "16788  41.000000              10            Divorced               White   \n",
       "18292  48.000000              10  Married-civ-spouse               White   \n",
       "2453   54.000000               9  Married-civ-spouse               Black   \n",
       "13398  32.000000              13  Married-civ-spouse               White   \n",
       "16927  31.000000              13  Married-civ-spouse               White   \n",
       "20541  38.654088               9       Never-married               Black   \n",
       "2353   23.000000               9       Never-married               White   \n",
       "27356  47.000000              13  Married-civ-spouse               White   \n",
       "27062  59.000000              14             Widowed               White   \n",
       "19561  37.000000              10  Married-civ-spouse               Black   \n",
       "8573   19.000000              10       Never-married               White   \n",
       "28901  51.000000               9  Married-civ-spouse               White   \n",
       "1581   53.000000               9  Married-civ-spouse               Black   \n",
       "6582   35.000000              10  Married-civ-spouse               White   \n",
       "15146  50.000000              10            Divorced               Black   \n",
       "14913  40.000000               6  Married-civ-spouse               Black   \n",
       "15953  39.000000              10       Never-married               Black   \n",
       "16506  25.000000               9       Never-married               White   \n",
       "\n",
       "         sexo  horas_por_semana salario_anual  \n",
       "28866  Female                37         <=50K  \n",
       "2310     Male                40         <=50K  \n",
       "25040    Male                12         <=50K  \n",
       "15271    Male                40         <=50K  \n",
       "6084     Male                40         <=50K  \n",
       "2425     Male                40         <=50K  \n",
       "27720    Male                50         <=50K  \n",
       "16788  Female                50         <=50K  \n",
       "18292    Male                50          >50K  \n",
       "2453   Female                20         <=50K  \n",
       "13398    Male                44         <=50K  \n",
       "16927    Male                50          >50K  \n",
       "20541    Male                30         <=50K  \n",
       "2353   Female                40         <=50K  \n",
       "27356    Male                50          >50K  \n",
       "27062  Female                60          >50K  \n",
       "19561    Male                50         <=50K  \n",
       "8573   Female                26         <=50K  \n",
       "28901    Male                30         <=50K  \n",
       "1581     Male                45          >50K  \n",
       "6582     Male                58         <=50K  \n",
       "15146  Female                40         <=50K  \n",
       "14913    Male                40         <=50K  \n",
       "15953  Female                40         <=50K  \n",
       "16506    Male                40         <=50K  "
      ]
     },
     "execution_count": 18,
     "metadata": {},
     "output_type": "execute_result"
    }
   ],
   "source": [
    "#amostra do dataframe depois de processado\n",
    "df_limpo.sample(25)"
   ]
  },
  {
   "cell_type": "code",
   "execution_count": null,
   "metadata": {
    "id": "8yD0fNvjA_6r"
   },
   "outputs": [],
   "source": [
    "#7 - Aplique uma transformação \"MinMax\" na variável 'tempo_educacao'\n",
    "from sklearn.preprocessing import MinMaxScaler, StandardScaler"
   ]
  },
  {
   "cell_type": "code",
   "execution_count": null,
   "metadata": {
    "id": "SoY0-K-HA_6r"
   },
   "outputs": [],
   "source": [
    "mm_scaler = MinMaxScaler()\n",
    "st_scaler = StandardScaler()"
   ]
  },
  {
   "cell_type": "code",
   "execution_count": null,
   "metadata": {
    "id": "cG2J8t1qA_6s",
    "outputId": "b903d017-8be0-4370-a1f9-37130f1d753d"
   },
   "outputs": [
    {
     "name": "stdout",
     "output_type": "stream",
     "text": [
      "count    29170.000000\n",
      "mean        10.169455\n",
      "std          2.394966\n",
      "min          1.000000\n",
      "25%          9.000000\n",
      "50%         10.000000\n",
      "75%         12.000000\n",
      "max         16.000000\n",
      "Name: tempo_educacao, dtype: float64\n"
     ]
    },
    {
     "data": {
      "image/png": "[encoded data removed]",
      "text/plain": [
       "<Figure size 432x288 with 1 Axes>"
      ]
     },
     "metadata": {
      "needs_background": "light"
     },
     "output_type": "display_data"
    }
   ],
   "source": [
    "print(df_limpo.tempo_educacao.describe())\n",
    "\n",
    "plt.title(\"Tempo Educação\", fontsize = 12, fontweight = 'bold')\n",
    "plt.hist(df_limpo.tempo_educacao, color='green')\n",
    "plt.grid()\n",
    "plt.show()"
   ]
  },
  {
   "cell_type": "code",
   "execution_count": null,
   "metadata": {
    "id": "dyHNQkbnA_6s"
   },
   "outputs": [],
   "source": [
    "x = df_limpo.tempo_educacao.values\n",
    "M = np.max(x)\n",
    "m = np.min(x)\n",
    "\n",
    "x_mm = (x-m)/(M-m)"
   ]
  },
  {
   "cell_type": "code",
   "execution_count": null,
   "metadata": {
    "id": "zDE9puC_A_6t",
    "outputId": "1103afd9-8d9f-427f-d0d7-559f878a1ab7"
   },
   "outputs": [
    {
     "name": "stdout",
     "output_type": "stream",
     "text": [
      "count    29170.00000\n",
      "mean         0.61130\n",
      "std          0.15966\n",
      "min          0.00000\n",
      "25%          0.53333\n",
      "50%          0.60000\n",
      "75%          0.73333\n",
      "max          1.00000\n",
      "dtype: float64\n"
     ]
    },
    {
     "data": {
      "image/png": "[encoded data removed]",
      "text/plain": [
       "<Figure size 432x288 with 1 Axes>"
      ]
     },
     "metadata": {
      "needs_background": "light"
     },
     "output_type": "display_data"
    }
   ],
   "source": [
    "print(pd.Series(x_mm).describe().round(5))\n",
    "\n",
    "plt.title(\"Tempo Educação(normalizado)\", fontsize = 12, fontweight = 'bold')\n",
    "plt.hist(x_mm, color='lightblue')\n",
    "plt.grid()\n",
    "plt.show()"
   ]
  },
  {
   "cell_type": "code",
   "execution_count": null,
   "metadata": {
    "id": "Mf6VkidJA_6u",
    "outputId": "ff7dcbe0-47a3-419f-c63f-175668b3d3b6"
   },
   "outputs": [
    {
     "name": "stdout",
     "output_type": "stream",
     "text": [
      "count    29170.000000\n",
      "mean        40.447755\n",
      "std         12.417203\n",
      "min          1.000000\n",
      "25%         40.000000\n",
      "50%         40.000000\n",
      "75%         45.000000\n",
      "max         99.000000\n",
      "Name: horas_por_semana, dtype: float64\n"
     ]
    },
    {
     "data": {
      "image/png": "[encoded data removed]",
      "text/plain": [
       "<Figure size 432x288 with 1 Axes>"
      ]
     },
     "metadata": {
      "needs_background": "light"
     },
     "output_type": "display_data"
    }
   ],
   "source": [
    "print(df_limpo.horas_por_semana.describe())\n",
    "\n",
    "plt.title('Horas por semana', fontsize = 12, fontweight='bold')\n",
    "plt.hist(df_limpo.horas_por_semana)\n",
    "plt.grid()\n",
    "plt.show()"
   ]
  },
  {
   "cell_type": "code",
   "execution_count": null,
   "metadata": {
    "id": "K0KYUqReA_6v"
   },
   "outputs": [],
   "source": [
    "x = df_limpo.horas_por_semana.values\n",
    "mx = np.mean(x)\n",
    "desviop = np.std(x)\n",
    "\n",
    "norm_x = (x-mx) / desviop"
   ]
  },
  {
   "cell_type": "code",
   "execution_count": null,
   "metadata": {
    "id": "xGaP9d0xA_6v",
    "outputId": "20986f0f-ce50-43be-a020-e599b9155f7e"
   },
   "outputs": [
    {
     "name": "stdout",
     "output_type": "stream",
     "text": [
      "count    29170.00000\n",
      "mean         0.00000\n",
      "std          1.00002\n",
      "min         -3.17692\n",
      "25%         -0.03606\n",
      "50%         -0.03606\n",
      "75%          0.36661\n",
      "max          4.71549\n",
      "dtype: float64\n"
     ]
    },
    {
     "data": {
      "image/png": "[encoded data removed]",
      "text/plain": [
       "<Figure size 432x288 with 1 Axes>"
      ]
     },
     "metadata": {
      "needs_background": "light"
     },
     "output_type": "display_data"
    }
   ],
   "source": [
    "print(pd.Series(norm_x).describe().round(5))\n",
    "\n",
    "plt.title('Horas por Semana(normalizado)', fontsize=12, fontweight='bold')\n",
    "plt.grid()\n",
    "plt.hist(norm_x)\n",
    "plt.show()"
   ]
  },
  {
   "cell_type": "code",
   "execution_count": null,
   "metadata": {
    "id": "OCE4FZxiA_6w",
    "outputId": "381bebf1-c47a-4991-fd48-0b1faa18065b"
   },
   "outputs": [
    {
     "data": {
      "text/plain": [
       "array([[13],\n",
       "       [13],\n",
       "       [ 9],\n",
       "       ...,\n",
       "       [ 9],\n",
       "       [ 9],\n",
       "       [ 9]], dtype=int64)"
      ]
     },
     "execution_count": 27,
     "metadata": {},
     "output_type": "execute_result"
    }
   ],
   "source": [
    "X1 = df_limpo.tempo_educacao.values.reshape(-1,1)\n",
    "X1"
   ]
  },
  {
   "cell_type": "code",
   "execution_count": null,
   "metadata": {
    "id": "3XH2FB5iA_6w",
    "outputId": "d4878747-35ee-45f8-8413-8be9b14546bd"
   },
   "outputs": [
    {
     "data": {
      "text/plain": [
       "array([[40],\n",
       "       [13],\n",
       "       [40],\n",
       "       ...,\n",
       "       [40],\n",
       "       [20],\n",
       "       [40]], dtype=int64)"
      ]
     },
     "execution_count": 28,
     "metadata": {},
     "output_type": "execute_result"
    }
   ],
   "source": [
    "X2 = df_limpo.horas_por_semana.values.reshape(-1,1)\n",
    "X2"
   ]
  },
  {
   "cell_type": "code",
   "execution_count": null,
   "metadata": {
    "id": "HL-IbvRwA_6x",
    "outputId": "5226c904-4558-41a1-97fe-8707c6a4e0fa"
   },
   "outputs": [
    {
     "data": {
      "text/plain": [
       "MinMaxScaler()"
      ]
     },
     "execution_count": 29,
     "metadata": {},
     "output_type": "execute_result"
    }
   ],
   "source": [
    "mm_scaler.fit(X1)"
   ]
  },
  {
   "cell_type": "code",
   "execution_count": null,
   "metadata": {
    "id": "aOdNeub8A_6x",
    "outputId": "b9c6d717-c5a1-49f6-a86c-18dacb0c3d91"
   },
   "outputs": [
    {
     "data": {
      "text/plain": [
       "StandardScaler()"
      ]
     },
     "execution_count": 30,
     "metadata": {},
     "output_type": "execute_result"
    }
   ],
   "source": [
    "\n",
    "st_scaler.fit(X2)"
   ]
  },
  {
   "cell_type": "code",
   "execution_count": null,
   "metadata": {
    "id": "BiYgXJqeA_6y",
    "outputId": "55c5bd28-bf11-4937-98ef-4892b6fbcdb1"
   },
   "outputs": [
    {
     "data": {
      "text/plain": [
       "array([[0.8       ],\n",
       "       [0.8       ],\n",
       "       [0.53333333],\n",
       "       ...,\n",
       "       [0.53333333],\n",
       "       [0.53333333],\n",
       "       [0.53333333]])"
      ]
     },
     "execution_count": 31,
     "metadata": {},
     "output_type": "execute_result"
    }
   ],
   "source": [
    "mm_scaler.transform(X1)"
   ]
  },
  {
   "cell_type": "code",
   "execution_count": null,
   "metadata": {
    "id": "AIZbXiSKA_6z",
    "outputId": "56491e87-92e3-48e8-8854-c2c02ae42d23"
   },
   "outputs": [
    {
     "data": {
      "text/plain": [
       "array([[-0.03605983],\n",
       "       [-2.21049975],\n",
       "       [-0.03605983],\n",
       "       ...,\n",
       "       [-0.03605983],\n",
       "       [-1.64675606],\n",
       "       [-0.03605983]])"
      ]
     },
     "execution_count": 32,
     "metadata": {},
     "output_type": "execute_result"
    }
   ],
   "source": [
    "st_scaler.transform(X2)"
   ]
  },
  {
   "cell_type": "code",
   "execution_count": null,
   "metadata": {
    "id": "XP_Aac9lA_6z",
    "outputId": "a86825d1-0a09-496e-b61a-5045ba016427"
   },
   "outputs": [
    {
     "data": {
      "text/html": [
       "<div>\n",
       "<style scoped>\n",
       "    .dataframe tbody tr th:only-of-type {\n",
       "        vertical-align: middle;\n",
       "    }\n",
       "\n",
       "    .dataframe tbody tr th {\n",
       "        vertical-align: top;\n",
       "    }\n",
       "\n",
       "    .dataframe thead th {\n",
       "        text-align: right;\n",
       "    }\n",
       "</style>\n",
       "<table border=\"1\" class=\"dataframe\">\n",
       "  <thead>\n",
       "    <tr style=\"text-align: right;\">\n",
       "      <th></th>\n",
       "      <th>0</th>\n",
       "      <th>1</th>\n",
       "      <th>2</th>\n",
       "      <th>3</th>\n",
       "    </tr>\n",
       "  </thead>\n",
       "  <tbody>\n",
       "    <tr>\n",
       "      <th>0</th>\n",
       "      <td>0.8000</td>\n",
       "      <td>0.8000</td>\n",
       "      <td>-0.0361</td>\n",
       "      <td>-0.0361</td>\n",
       "    </tr>\n",
       "    <tr>\n",
       "      <th>1</th>\n",
       "      <td>0.8000</td>\n",
       "      <td>0.8000</td>\n",
       "      <td>-2.2105</td>\n",
       "      <td>-2.2105</td>\n",
       "    </tr>\n",
       "    <tr>\n",
       "      <th>2</th>\n",
       "      <td>0.5333</td>\n",
       "      <td>0.5333</td>\n",
       "      <td>-0.0361</td>\n",
       "      <td>-0.0361</td>\n",
       "    </tr>\n",
       "    <tr>\n",
       "      <th>3</th>\n",
       "      <td>0.4000</td>\n",
       "      <td>0.4000</td>\n",
       "      <td>-0.0361</td>\n",
       "      <td>-0.0361</td>\n",
       "    </tr>\n",
       "    <tr>\n",
       "      <th>4</th>\n",
       "      <td>0.8667</td>\n",
       "      <td>0.8667</td>\n",
       "      <td>-0.0361</td>\n",
       "      <td>-0.0361</td>\n",
       "    </tr>\n",
       "    <tr>\n",
       "      <th>...</th>\n",
       "      <td>...</td>\n",
       "      <td>...</td>\n",
       "      <td>...</td>\n",
       "      <td>...</td>\n",
       "    </tr>\n",
       "    <tr>\n",
       "      <th>29165</th>\n",
       "      <td>0.7333</td>\n",
       "      <td>0.7333</td>\n",
       "      <td>-0.1971</td>\n",
       "      <td>-0.1971</td>\n",
       "    </tr>\n",
       "    <tr>\n",
       "      <th>29166</th>\n",
       "      <td>0.5333</td>\n",
       "      <td>0.5333</td>\n",
       "      <td>-0.0361</td>\n",
       "      <td>-0.0361</td>\n",
       "    </tr>\n",
       "    <tr>\n",
       "      <th>29167</th>\n",
       "      <td>0.5333</td>\n",
       "      <td>0.5333</td>\n",
       "      <td>-0.0361</td>\n",
       "      <td>-0.0361</td>\n",
       "    </tr>\n",
       "    <tr>\n",
       "      <th>29168</th>\n",
       "      <td>0.5333</td>\n",
       "      <td>0.5333</td>\n",
       "      <td>-1.6468</td>\n",
       "      <td>-1.6468</td>\n",
       "    </tr>\n",
       "    <tr>\n",
       "      <th>29169</th>\n",
       "      <td>0.5333</td>\n",
       "      <td>0.5333</td>\n",
       "      <td>-0.0361</td>\n",
       "      <td>-0.0361</td>\n",
       "    </tr>\n",
       "  </tbody>\n",
       "</table>\n",
       "<p>29170 rows × 4 columns</p>\n",
       "</div>"
      ],
      "text/plain": [
       "            0       1       2       3\n",
       "0      0.8000  0.8000 -0.0361 -0.0361\n",
       "1      0.8000  0.8000 -2.2105 -2.2105\n",
       "2      0.5333  0.5333 -0.0361 -0.0361\n",
       "3      0.4000  0.4000 -0.0361 -0.0361\n",
       "4      0.8667  0.8667 -0.0361 -0.0361\n",
       "...       ...     ...     ...     ...\n",
       "29165  0.7333  0.7333 -0.1971 -0.1971\n",
       "29166  0.5333  0.5333 -0.0361 -0.0361\n",
       "29167  0.5333  0.5333 -0.0361 -0.0361\n",
       "29168  0.5333  0.5333 -1.6468 -1.6468\n",
       "29169  0.5333  0.5333 -0.0361 -0.0361\n",
       "\n",
       "[29170 rows x 4 columns]"
      ]
     },
     "execution_count": 33,
     "metadata": {},
     "output_type": "execute_result"
    }
   ],
   "source": [
    "pd.DataFrame(np.c_[x_mm,mm_scaler.transform(X1),norm_x,st_scaler.transform(X2) ]).round(4)"
   ]
  },
  {
   "cell_type": "code",
   "execution_count": null,
   "metadata": {
    "id": "Aw7Rr_zkA_6z",
    "outputId": "fb985e08-fd9c-4376-c31d-37284caaaedd"
   },
   "outputs": [
    {
     "data": {
      "text/html": [
       "<div>\n",
       "<style scoped>\n",
       "    .dataframe tbody tr th:only-of-type {\n",
       "        vertical-align: middle;\n",
       "    }\n",
       "\n",
       "    .dataframe tbody tr th {\n",
       "        vertical-align: top;\n",
       "    }\n",
       "\n",
       "    .dataframe thead th {\n",
       "        text-align: right;\n",
       "    }\n",
       "</style>\n",
       "<table border=\"1\" class=\"dataframe\">\n",
       "  <thead>\n",
       "    <tr style=\"text-align: right;\">\n",
       "      <th></th>\n",
       "      <th>idade</th>\n",
       "      <th>tempo_educacao</th>\n",
       "      <th>estado_civil</th>\n",
       "      <th>cor</th>\n",
       "      <th>sexo</th>\n",
       "      <th>horas_por_semana</th>\n",
       "      <th>salario_anual</th>\n",
       "    </tr>\n",
       "  </thead>\n",
       "  <tbody>\n",
       "    <tr>\n",
       "      <th>0</th>\n",
       "      <td>39.0</td>\n",
       "      <td>13</td>\n",
       "      <td>Never-married</td>\n",
       "      <td>White</td>\n",
       "      <td>Male</td>\n",
       "      <td>40</td>\n",
       "      <td>&lt;=50K</td>\n",
       "    </tr>\n",
       "    <tr>\n",
       "      <th>1</th>\n",
       "      <td>50.0</td>\n",
       "      <td>13</td>\n",
       "      <td>Married-civ-spouse</td>\n",
       "      <td>White</td>\n",
       "      <td>Male</td>\n",
       "      <td>13</td>\n",
       "      <td>&lt;=50K</td>\n",
       "    </tr>\n",
       "    <tr>\n",
       "      <th>2</th>\n",
       "      <td>38.0</td>\n",
       "      <td>9</td>\n",
       "      <td>Divorced</td>\n",
       "      <td>White</td>\n",
       "      <td>Male</td>\n",
       "      <td>40</td>\n",
       "      <td>&lt;=50K</td>\n",
       "    </tr>\n",
       "    <tr>\n",
       "      <th>3</th>\n",
       "      <td>53.0</td>\n",
       "      <td>7</td>\n",
       "      <td>Married-civ-spouse</td>\n",
       "      <td>Black</td>\n",
       "      <td>Male</td>\n",
       "      <td>40</td>\n",
       "      <td>&lt;=50K</td>\n",
       "    </tr>\n",
       "    <tr>\n",
       "      <th>4</th>\n",
       "      <td>37.0</td>\n",
       "      <td>14</td>\n",
       "      <td>Married-civ-spouse</td>\n",
       "      <td>White</td>\n",
       "      <td>Female</td>\n",
       "      <td>40</td>\n",
       "      <td>&lt;=50K</td>\n",
       "    </tr>\n",
       "  </tbody>\n",
       "</table>\n",
       "</div>"
      ],
      "text/plain": [
       "   idade  tempo_educacao        estado_civil    cor    sexo  horas_por_semana  \\\n",
       "0   39.0              13       Never-married  White    Male                40   \n",
       "1   50.0              13  Married-civ-spouse  White    Male                13   \n",
       "2   38.0               9            Divorced  White    Male                40   \n",
       "3   53.0               7  Married-civ-spouse  Black    Male                40   \n",
       "4   37.0              14  Married-civ-spouse  White  Female                40   \n",
       "\n",
       "  salario_anual  \n",
       "0         <=50K  \n",
       "1         <=50K  \n",
       "2         <=50K  \n",
       "3         <=50K  \n",
       "4         <=50K  "
      ]
     },
     "execution_count": 34,
     "metadata": {},
     "output_type": "execute_result"
    }
   ],
   "source": [
    "df_limpo.head()"
   ]
  },
  {
   "cell_type": "code",
   "execution_count": null,
   "metadata": {
    "id": "BogPC_m1A_60"
   },
   "outputs": [],
   "source": [
    "#8 - Aplique ohe-hot-encoding nas variáveis 'estado_civil', 'cor' e 'sexo'.\n",
    "from sklearn.preprocessing import OneHotEncoder"
   ]
  },
  {
   "cell_type": "code",
   "execution_count": null,
   "metadata": {
    "id": "qbqx9J5PA_60"
   },
   "outputs": [],
   "source": [
    "ohe = OneHotEncoder()"
   ]
  },
  {
   "cell_type": "code",
   "execution_count": null,
   "metadata": {
    "id": "rJIPkuC6A_61",
    "outputId": "c8d67bf0-4daf-4f71-9426-3040915113bc"
   },
   "outputs": [
    {
     "data": {
      "text/plain": [
       "OneHotEncoder()"
      ]
     },
     "execution_count": 37,
     "metadata": {},
     "output_type": "execute_result"
    }
   ],
   "source": [
    "var_estado_civil = df_limpo.estado_civil.values.reshape(-1,1)\n",
    "\n",
    "ohe.fit(var_estado_civil)"
   ]
  },
  {
   "cell_type": "code",
   "execution_count": null,
   "metadata": {
    "id": "5x-ZPCYwA_61",
    "outputId": "573438ec-b27c-4306-a679-79178771b1f5"
   },
   "outputs": [
    {
     "data": {
      "text/plain": [
       "<29170x7 sparse matrix of type '<class 'numpy.float64'>'\n",
       "\twith 29170 stored elements in Compressed Sparse Row format>"
      ]
     },
     "execution_count": 38,
     "metadata": {},
     "output_type": "execute_result"
    }
   ],
   "source": [
    "ohe.transform(var_estado_civil)"
   ]
  },
  {
   "cell_type": "code",
   "execution_count": null,
   "metadata": {
    "id": "sZO1L51XA_62",
    "outputId": "34a0167d-a9fe-42c1-fbe7-9bdc3567921d"
   },
   "outputs": [
    {
     "data": {
      "text/plain": [
       "array([[0., 0., 0., ..., 1., 0., 0.],\n",
       "       [0., 0., 1., ..., 0., 0., 0.],\n",
       "       [1., 0., 0., ..., 0., 0., 0.],\n",
       "       ...,\n",
       "       [0., 0., 0., ..., 0., 0., 1.],\n",
       "       [0., 0., 0., ..., 1., 0., 0.],\n",
       "       [0., 0., 1., ..., 0., 0., 0.]])"
      ]
     },
     "execution_count": 39,
     "metadata": {},
     "output_type": "execute_result"
    }
   ],
   "source": [
    "ohe.transform(var_estado_civil).toarray()"
   ]
  },
  {
   "cell_type": "code",
   "execution_count": null,
   "metadata": {
    "id": "bOmmnIgQA_62",
    "outputId": "2dfdce12-6d5c-4d03-a0a2-403082152a0b"
   },
   "outputs": [
    {
     "data": {
      "text/plain": [
       "[array(['Divorced', 'Married-AF-spouse', 'Married-civ-spouse',\n",
       "        'Married-spouse-absent', 'Never-married', 'Separated', 'Widowed'],\n",
       "       dtype=object)]"
      ]
     },
     "execution_count": 40,
     "metadata": {},
     "output_type": "execute_result"
    }
   ],
   "source": [
    "ohe.categories_"
   ]
  },
  {
   "cell_type": "code",
   "execution_count": null,
   "metadata": {
    "id": "J2q04v7jA_62",
    "outputId": "23dbde58-6a04-46a5-9026-86c20d1e6c16"
   },
   "outputs": [
    {
     "data": {
      "text/html": [
       "<div>\n",
       "<style scoped>\n",
       "    .dataframe tbody tr th:only-of-type {\n",
       "        vertical-align: middle;\n",
       "    }\n",
       "\n",
       "    .dataframe tbody tr th {\n",
       "        vertical-align: top;\n",
       "    }\n",
       "\n",
       "    .dataframe thead th {\n",
       "        text-align: right;\n",
       "    }\n",
       "</style>\n",
       "<table border=\"1\" class=\"dataframe\">\n",
       "  <thead>\n",
       "    <tr style=\"text-align: right;\">\n",
       "      <th></th>\n",
       "      <th>Divorced</th>\n",
       "      <th>Married-AF-spouse</th>\n",
       "      <th>Married-civ-spouse</th>\n",
       "      <th>Married-spouse-absent</th>\n",
       "      <th>Never-married</th>\n",
       "      <th>Separated</th>\n",
       "      <th>Widowed</th>\n",
       "    </tr>\n",
       "  </thead>\n",
       "  <tbody>\n",
       "    <tr>\n",
       "      <th>0</th>\n",
       "      <td>0.0</td>\n",
       "      <td>0.0</td>\n",
       "      <td>0.0</td>\n",
       "      <td>0.0</td>\n",
       "      <td>1.0</td>\n",
       "      <td>0.0</td>\n",
       "      <td>0.0</td>\n",
       "    </tr>\n",
       "    <tr>\n",
       "      <th>1</th>\n",
       "      <td>0.0</td>\n",
       "      <td>0.0</td>\n",
       "      <td>1.0</td>\n",
       "      <td>0.0</td>\n",
       "      <td>0.0</td>\n",
       "      <td>0.0</td>\n",
       "      <td>0.0</td>\n",
       "    </tr>\n",
       "    <tr>\n",
       "      <th>2</th>\n",
       "      <td>1.0</td>\n",
       "      <td>0.0</td>\n",
       "      <td>0.0</td>\n",
       "      <td>0.0</td>\n",
       "      <td>0.0</td>\n",
       "      <td>0.0</td>\n",
       "      <td>0.0</td>\n",
       "    </tr>\n",
       "    <tr>\n",
       "      <th>3</th>\n",
       "      <td>0.0</td>\n",
       "      <td>0.0</td>\n",
       "      <td>1.0</td>\n",
       "      <td>0.0</td>\n",
       "      <td>0.0</td>\n",
       "      <td>0.0</td>\n",
       "      <td>0.0</td>\n",
       "    </tr>\n",
       "    <tr>\n",
       "      <th>4</th>\n",
       "      <td>0.0</td>\n",
       "      <td>0.0</td>\n",
       "      <td>1.0</td>\n",
       "      <td>0.0</td>\n",
       "      <td>0.0</td>\n",
       "      <td>0.0</td>\n",
       "      <td>0.0</td>\n",
       "    </tr>\n",
       "    <tr>\n",
       "      <th>...</th>\n",
       "      <td>...</td>\n",
       "      <td>...</td>\n",
       "      <td>...</td>\n",
       "      <td>...</td>\n",
       "      <td>...</td>\n",
       "      <td>...</td>\n",
       "      <td>...</td>\n",
       "    </tr>\n",
       "    <tr>\n",
       "      <th>29165</th>\n",
       "      <td>0.0</td>\n",
       "      <td>0.0</td>\n",
       "      <td>1.0</td>\n",
       "      <td>0.0</td>\n",
       "      <td>0.0</td>\n",
       "      <td>0.0</td>\n",
       "      <td>0.0</td>\n",
       "    </tr>\n",
       "    <tr>\n",
       "      <th>29166</th>\n",
       "      <td>0.0</td>\n",
       "      <td>0.0</td>\n",
       "      <td>1.0</td>\n",
       "      <td>0.0</td>\n",
       "      <td>0.0</td>\n",
       "      <td>0.0</td>\n",
       "      <td>0.0</td>\n",
       "    </tr>\n",
       "    <tr>\n",
       "      <th>29167</th>\n",
       "      <td>0.0</td>\n",
       "      <td>0.0</td>\n",
       "      <td>0.0</td>\n",
       "      <td>0.0</td>\n",
       "      <td>0.0</td>\n",
       "      <td>0.0</td>\n",
       "      <td>1.0</td>\n",
       "    </tr>\n",
       "    <tr>\n",
       "      <th>29168</th>\n",
       "      <td>0.0</td>\n",
       "      <td>0.0</td>\n",
       "      <td>0.0</td>\n",
       "      <td>0.0</td>\n",
       "      <td>1.0</td>\n",
       "      <td>0.0</td>\n",
       "      <td>0.0</td>\n",
       "    </tr>\n",
       "    <tr>\n",
       "      <th>29169</th>\n",
       "      <td>0.0</td>\n",
       "      <td>0.0</td>\n",
       "      <td>1.0</td>\n",
       "      <td>0.0</td>\n",
       "      <td>0.0</td>\n",
       "      <td>0.0</td>\n",
       "      <td>0.0</td>\n",
       "    </tr>\n",
       "  </tbody>\n",
       "</table>\n",
       "<p>29170 rows × 7 columns</p>\n",
       "</div>"
      ],
      "text/plain": [
       "       Divorced  Married-AF-spouse  Married-civ-spouse  Married-spouse-absent  \\\n",
       "0           0.0                0.0                 0.0                    0.0   \n",
       "1           0.0                0.0                 1.0                    0.0   \n",
       "2           1.0                0.0                 0.0                    0.0   \n",
       "3           0.0                0.0                 1.0                    0.0   \n",
       "4           0.0                0.0                 1.0                    0.0   \n",
       "...         ...                ...                 ...                    ...   \n",
       "29165       0.0                0.0                 1.0                    0.0   \n",
       "29166       0.0                0.0                 1.0                    0.0   \n",
       "29167       0.0                0.0                 0.0                    0.0   \n",
       "29168       0.0                0.0                 0.0                    0.0   \n",
       "29169       0.0                0.0                 1.0                    0.0   \n",
       "\n",
       "       Never-married  Separated  Widowed  \n",
       "0                1.0        0.0      0.0  \n",
       "1                0.0        0.0      0.0  \n",
       "2                0.0        0.0      0.0  \n",
       "3                0.0        0.0      0.0  \n",
       "4                0.0        0.0      0.0  \n",
       "...              ...        ...      ...  \n",
       "29165            0.0        0.0      0.0  \n",
       "29166            0.0        0.0      0.0  \n",
       "29167            0.0        0.0      1.0  \n",
       "29168            1.0        0.0      0.0  \n",
       "29169            0.0        0.0      0.0  \n",
       "\n",
       "[29170 rows x 7 columns]"
      ]
     },
     "execution_count": 41,
     "metadata": {},
     "output_type": "execute_result"
    }
   ],
   "source": [
    "df_ohe = pd.DataFrame(ohe.transform(var_estado_civil).toarray(), \n",
    "                      columns = ohe.categories_[0].tolist())\n",
    "\n",
    "df_ohe"
   ]
  },
  {
   "cell_type": "code",
   "execution_count": null,
   "metadata": {
    "id": "FY3I6e8PA_63",
    "outputId": "39ee8242-4616-4b1a-baa5-a7ddea991b51"
   },
   "outputs": [
    {
     "data": {
      "text/plain": [
       "OneHotEncoder()"
      ]
     },
     "execution_count": 42,
     "metadata": {},
     "output_type": "execute_result"
    }
   ],
   "source": [
    "#'cor'\n",
    "\n",
    "var_cor = df_limpo.cor.values.reshape(-1,1)\n",
    "\n",
    "ohe.fit(var_cor)"
   ]
  },
  {
   "cell_type": "code",
   "execution_count": null,
   "metadata": {
    "id": "-R8ZVIshA_63",
    "outputId": "373300b8-38c6-433d-e887-40b71b566502"
   },
   "outputs": [
    {
     "data": {
      "text/plain": [
       "<29170x5 sparse matrix of type '<class 'numpy.float64'>'\n",
       "\twith 29170 stored elements in Compressed Sparse Row format>"
      ]
     },
     "execution_count": 43,
     "metadata": {},
     "output_type": "execute_result"
    }
   ],
   "source": [
    "ohe.transform(var_cor)"
   ]
  },
  {
   "cell_type": "code",
   "execution_count": null,
   "metadata": {
    "id": "2fDJD6GCA_64",
    "outputId": "27c56fa3-6251-4e5f-d8b4-f7c42d68f743"
   },
   "outputs": [
    {
     "data": {
      "text/plain": [
       "array([[0., 0., 0., 0., 1.],\n",
       "       [0., 0., 0., 0., 1.],\n",
       "       [0., 0., 0., 0., 1.],\n",
       "       ...,\n",
       "       [0., 0., 0., 0., 1.],\n",
       "       [0., 0., 0., 0., 1.],\n",
       "       [0., 0., 0., 0., 1.]])"
      ]
     },
     "execution_count": 44,
     "metadata": {},
     "output_type": "execute_result"
    }
   ],
   "source": [
    "ohe.transform(var_cor).toarray()"
   ]
  },
  {
   "cell_type": "code",
   "execution_count": null,
   "metadata": {
    "id": "HoAAEttpA_64",
    "outputId": "7c0d2427-1af0-4dbf-e596-12d5fdf6f75c"
   },
   "outputs": [
    {
     "data": {
      "text/plain": [
       "[array(['Amer-Indian-Eskimo', 'Asian-Pac-Islander', 'Black', 'Other',\n",
       "        'White'], dtype=object)]"
      ]
     },
     "execution_count": 45,
     "metadata": {},
     "output_type": "execute_result"
    }
   ],
   "source": [
    "ohe.categories_"
   ]
  },
  {
   "cell_type": "code",
   "execution_count": null,
   "metadata": {
    "id": "Hb8JrU_HA_65",
    "outputId": "42f0440d-a3cf-4a3c-9bfb-a054f95a36a2"
   },
   "outputs": [
    {
     "data": {
      "text/html": [
       "<div>\n",
       "<style scoped>\n",
       "    .dataframe tbody tr th:only-of-type {\n",
       "        vertical-align: middle;\n",
       "    }\n",
       "\n",
       "    .dataframe tbody tr th {\n",
       "        vertical-align: top;\n",
       "    }\n",
       "\n",
       "    .dataframe thead th {\n",
       "        text-align: right;\n",
       "    }\n",
       "</style>\n",
       "<table border=\"1\" class=\"dataframe\">\n",
       "  <thead>\n",
       "    <tr style=\"text-align: right;\">\n",
       "      <th></th>\n",
       "      <th>Amer-Indian-Eskimo</th>\n",
       "      <th>Asian-Pac-Islander</th>\n",
       "      <th>Black</th>\n",
       "      <th>Other</th>\n",
       "      <th>White</th>\n",
       "    </tr>\n",
       "  </thead>\n",
       "  <tbody>\n",
       "    <tr>\n",
       "      <th>0</th>\n",
       "      <td>0.0</td>\n",
       "      <td>0.0</td>\n",
       "      <td>0.0</td>\n",
       "      <td>0.0</td>\n",
       "      <td>1.0</td>\n",
       "    </tr>\n",
       "    <tr>\n",
       "      <th>1</th>\n",
       "      <td>0.0</td>\n",
       "      <td>0.0</td>\n",
       "      <td>0.0</td>\n",
       "      <td>0.0</td>\n",
       "      <td>1.0</td>\n",
       "    </tr>\n",
       "    <tr>\n",
       "      <th>2</th>\n",
       "      <td>0.0</td>\n",
       "      <td>0.0</td>\n",
       "      <td>0.0</td>\n",
       "      <td>0.0</td>\n",
       "      <td>1.0</td>\n",
       "    </tr>\n",
       "    <tr>\n",
       "      <th>3</th>\n",
       "      <td>0.0</td>\n",
       "      <td>0.0</td>\n",
       "      <td>1.0</td>\n",
       "      <td>0.0</td>\n",
       "      <td>0.0</td>\n",
       "    </tr>\n",
       "    <tr>\n",
       "      <th>4</th>\n",
       "      <td>0.0</td>\n",
       "      <td>0.0</td>\n",
       "      <td>0.0</td>\n",
       "      <td>0.0</td>\n",
       "      <td>1.0</td>\n",
       "    </tr>\n",
       "    <tr>\n",
       "      <th>...</th>\n",
       "      <td>...</td>\n",
       "      <td>...</td>\n",
       "      <td>...</td>\n",
       "      <td>...</td>\n",
       "      <td>...</td>\n",
       "    </tr>\n",
       "    <tr>\n",
       "      <th>29165</th>\n",
       "      <td>0.0</td>\n",
       "      <td>0.0</td>\n",
       "      <td>0.0</td>\n",
       "      <td>0.0</td>\n",
       "      <td>1.0</td>\n",
       "    </tr>\n",
       "    <tr>\n",
       "      <th>29166</th>\n",
       "      <td>0.0</td>\n",
       "      <td>0.0</td>\n",
       "      <td>0.0</td>\n",
       "      <td>0.0</td>\n",
       "      <td>1.0</td>\n",
       "    </tr>\n",
       "    <tr>\n",
       "      <th>29167</th>\n",
       "      <td>0.0</td>\n",
       "      <td>0.0</td>\n",
       "      <td>0.0</td>\n",
       "      <td>0.0</td>\n",
       "      <td>1.0</td>\n",
       "    </tr>\n",
       "    <tr>\n",
       "      <th>29168</th>\n",
       "      <td>0.0</td>\n",
       "      <td>0.0</td>\n",
       "      <td>0.0</td>\n",
       "      <td>0.0</td>\n",
       "      <td>1.0</td>\n",
       "    </tr>\n",
       "    <tr>\n",
       "      <th>29169</th>\n",
       "      <td>0.0</td>\n",
       "      <td>0.0</td>\n",
       "      <td>0.0</td>\n",
       "      <td>0.0</td>\n",
       "      <td>1.0</td>\n",
       "    </tr>\n",
       "  </tbody>\n",
       "</table>\n",
       "<p>29170 rows × 5 columns</p>\n",
       "</div>"
      ],
      "text/plain": [
       "       Amer-Indian-Eskimo  Asian-Pac-Islander  Black  Other  White\n",
       "0                     0.0                 0.0    0.0    0.0    1.0\n",
       "1                     0.0                 0.0    0.0    0.0    1.0\n",
       "2                     0.0                 0.0    0.0    0.0    1.0\n",
       "3                     0.0                 0.0    1.0    0.0    0.0\n",
       "4                     0.0                 0.0    0.0    0.0    1.0\n",
       "...                   ...                 ...    ...    ...    ...\n",
       "29165                 0.0                 0.0    0.0    0.0    1.0\n",
       "29166                 0.0                 0.0    0.0    0.0    1.0\n",
       "29167                 0.0                 0.0    0.0    0.0    1.0\n",
       "29168                 0.0                 0.0    0.0    0.0    1.0\n",
       "29169                 0.0                 0.0    0.0    0.0    1.0\n",
       "\n",
       "[29170 rows x 5 columns]"
      ]
     },
     "execution_count": 46,
     "metadata": {},
     "output_type": "execute_result"
    }
   ],
   "source": [
    "df_ohe_cor = pd.DataFrame(ohe.transform(var_cor).toarray(), \n",
    "                      columns = ohe.categories_[0].tolist())\n",
    "                       \n",
    "df_ohe_cor"
   ]
  },
  {
   "cell_type": "code",
   "execution_count": null,
   "metadata": {
    "id": "Jjbmnpu4A_65",
    "outputId": "d8080522-6f22-4215-a611-34ee2520db89"
   },
   "outputs": [
    {
     "data": {
      "text/plain": [
       "OneHotEncoder()"
      ]
     },
     "execution_count": 47,
     "metadata": {},
     "output_type": "execute_result"
    }
   ],
   "source": [
    "#'sexo'\n",
    "var_sexo = df_limpo.sexo.values.reshape(-1,1)\n",
    "\n",
    "ohe.fit(var_sexo)"
   ]
  },
  {
   "cell_type": "code",
   "execution_count": null,
   "metadata": {
    "id": "4IAhJLd7A_65",
    "outputId": "93918b42-2143-410f-93b6-8079a1951260"
   },
   "outputs": [
    {
     "data": {
      "text/plain": [
       "<29170x2 sparse matrix of type '<class 'numpy.float64'>'\n",
       "\twith 29170 stored elements in Compressed Sparse Row format>"
      ]
     },
     "execution_count": 48,
     "metadata": {},
     "output_type": "execute_result"
    }
   ],
   "source": [
    "ohe.transform(var_sexo)"
   ]
  },
  {
   "cell_type": "code",
   "execution_count": null,
   "metadata": {
    "id": "fgcA_duCA_66",
    "outputId": "256374ee-f067-4f0b-e932-549d61d1f5e3"
   },
   "outputs": [
    {
     "data": {
      "text/plain": [
       "[array(['Female', 'Male'], dtype=object)]"
      ]
     },
     "execution_count": 49,
     "metadata": {},
     "output_type": "execute_result"
    }
   ],
   "source": [
    "ohe.categories_"
   ]
  },
  {
   "cell_type": "code",
   "execution_count": null,
   "metadata": {
    "id": "w_F9N_VXA_66",
    "outputId": "97a9e42f-594d-4c3e-8b4f-0d701cb9b945"
   },
   "outputs": [
    {
     "data": {
      "text/plain": [
       "array([[0., 1.],\n",
       "       [0., 1.],\n",
       "       [0., 1.],\n",
       "       ...,\n",
       "       [1., 0.],\n",
       "       [0., 1.],\n",
       "       [1., 0.]])"
      ]
     },
     "execution_count": 50,
     "metadata": {},
     "output_type": "execute_result"
    }
   ],
   "source": [
    "ohe.transform(var_sexo).toarray()"
   ]
  },
  {
   "cell_type": "code",
   "execution_count": null,
   "metadata": {
    "id": "AGDcClN2A_67",
    "outputId": "26d28d0f-8c16-4c04-aa29-2a6d5dd08123"
   },
   "outputs": [
    {
     "data": {
      "text/html": [
       "<div>\n",
       "<style scoped>\n",
       "    .dataframe tbody tr th:only-of-type {\n",
       "        vertical-align: middle;\n",
       "    }\n",
       "\n",
       "    .dataframe tbody tr th {\n",
       "        vertical-align: top;\n",
       "    }\n",
       "\n",
       "    .dataframe thead th {\n",
       "        text-align: right;\n",
       "    }\n",
       "</style>\n",
       "<table border=\"1\" class=\"dataframe\">\n",
       "  <thead>\n",
       "    <tr style=\"text-align: right;\">\n",
       "      <th></th>\n",
       "      <th>Female</th>\n",
       "      <th>Male</th>\n",
       "    </tr>\n",
       "  </thead>\n",
       "  <tbody>\n",
       "    <tr>\n",
       "      <th>0</th>\n",
       "      <td>0.0</td>\n",
       "      <td>1.0</td>\n",
       "    </tr>\n",
       "    <tr>\n",
       "      <th>1</th>\n",
       "      <td>0.0</td>\n",
       "      <td>1.0</td>\n",
       "    </tr>\n",
       "    <tr>\n",
       "      <th>2</th>\n",
       "      <td>0.0</td>\n",
       "      <td>1.0</td>\n",
       "    </tr>\n",
       "    <tr>\n",
       "      <th>3</th>\n",
       "      <td>0.0</td>\n",
       "      <td>1.0</td>\n",
       "    </tr>\n",
       "    <tr>\n",
       "      <th>4</th>\n",
       "      <td>1.0</td>\n",
       "      <td>0.0</td>\n",
       "    </tr>\n",
       "    <tr>\n",
       "      <th>...</th>\n",
       "      <td>...</td>\n",
       "      <td>...</td>\n",
       "    </tr>\n",
       "    <tr>\n",
       "      <th>29165</th>\n",
       "      <td>1.0</td>\n",
       "      <td>0.0</td>\n",
       "    </tr>\n",
       "    <tr>\n",
       "      <th>29166</th>\n",
       "      <td>0.0</td>\n",
       "      <td>1.0</td>\n",
       "    </tr>\n",
       "    <tr>\n",
       "      <th>29167</th>\n",
       "      <td>1.0</td>\n",
       "      <td>0.0</td>\n",
       "    </tr>\n",
       "    <tr>\n",
       "      <th>29168</th>\n",
       "      <td>0.0</td>\n",
       "      <td>1.0</td>\n",
       "    </tr>\n",
       "    <tr>\n",
       "      <th>29169</th>\n",
       "      <td>1.0</td>\n",
       "      <td>0.0</td>\n",
       "    </tr>\n",
       "  </tbody>\n",
       "</table>\n",
       "<p>29170 rows × 2 columns</p>\n",
       "</div>"
      ],
      "text/plain": [
       "       Female  Male\n",
       "0         0.0   1.0\n",
       "1         0.0   1.0\n",
       "2         0.0   1.0\n",
       "3         0.0   1.0\n",
       "4         1.0   0.0\n",
       "...       ...   ...\n",
       "29165     1.0   0.0\n",
       "29166     0.0   1.0\n",
       "29167     1.0   0.0\n",
       "29168     0.0   1.0\n",
       "29169     1.0   0.0\n",
       "\n",
       "[29170 rows x 2 columns]"
      ]
     },
     "execution_count": 51,
     "metadata": {},
     "output_type": "execute_result"
    }
   ],
   "source": [
    "df_ohe_sexo = pd.DataFrame(ohe.transform(var_sexo).toarray(),\n",
    "                          columns=ohe.categories_[0].tolist())\n",
    "\n",
    "df_ohe_sexo"
   ]
  },
  {
   "cell_type": "code",
   "execution_count": null,
   "metadata": {
    "id": "ZyOH0u35A_67",
    "outputId": "c7f36e96-b85d-4638-c1b0-4d10a6acb778"
   },
   "outputs": [
    {
     "data": {
      "text/html": [
       "<div>\n",
       "<style scoped>\n",
       "    .dataframe tbody tr th:only-of-type {\n",
       "        vertical-align: middle;\n",
       "    }\n",
       "\n",
       "    .dataframe tbody tr th {\n",
       "        vertical-align: top;\n",
       "    }\n",
       "\n",
       "    .dataframe thead th {\n",
       "        text-align: right;\n",
       "    }\n",
       "</style>\n",
       "<table border=\"1\" class=\"dataframe\">\n",
       "  <thead>\n",
       "    <tr style=\"text-align: right;\">\n",
       "      <th></th>\n",
       "      <th>idade</th>\n",
       "      <th>tempo_educacao</th>\n",
       "      <th>estado_civil</th>\n",
       "      <th>cor</th>\n",
       "      <th>sexo</th>\n",
       "      <th>horas_por_semana</th>\n",
       "      <th>salario_anual</th>\n",
       "      <th>Divorced</th>\n",
       "      <th>Married-AF-spouse</th>\n",
       "      <th>Married-civ-spouse</th>\n",
       "      <th>...</th>\n",
       "      <th>Never-married</th>\n",
       "      <th>Separated</th>\n",
       "      <th>Widowed</th>\n",
       "      <th>Amer-Indian-Eskimo</th>\n",
       "      <th>Asian-Pac-Islander</th>\n",
       "      <th>Black</th>\n",
       "      <th>Other</th>\n",
       "      <th>White</th>\n",
       "      <th>Female</th>\n",
       "      <th>Male</th>\n",
       "    </tr>\n",
       "  </thead>\n",
       "  <tbody>\n",
       "    <tr>\n",
       "      <th>0</th>\n",
       "      <td>39.0</td>\n",
       "      <td>13</td>\n",
       "      <td>Never-married</td>\n",
       "      <td>White</td>\n",
       "      <td>Male</td>\n",
       "      <td>40</td>\n",
       "      <td>&lt;=50K</td>\n",
       "      <td>0.0</td>\n",
       "      <td>0.0</td>\n",
       "      <td>0.0</td>\n",
       "      <td>...</td>\n",
       "      <td>1.0</td>\n",
       "      <td>0.0</td>\n",
       "      <td>0.0</td>\n",
       "      <td>0.0</td>\n",
       "      <td>0.0</td>\n",
       "      <td>0.0</td>\n",
       "      <td>0.0</td>\n",
       "      <td>1.0</td>\n",
       "      <td>0.0</td>\n",
       "      <td>1.0</td>\n",
       "    </tr>\n",
       "    <tr>\n",
       "      <th>1</th>\n",
       "      <td>50.0</td>\n",
       "      <td>13</td>\n",
       "      <td>Married-civ-spouse</td>\n",
       "      <td>White</td>\n",
       "      <td>Male</td>\n",
       "      <td>13</td>\n",
       "      <td>&lt;=50K</td>\n",
       "      <td>0.0</td>\n",
       "      <td>0.0</td>\n",
       "      <td>1.0</td>\n",
       "      <td>...</td>\n",
       "      <td>0.0</td>\n",
       "      <td>0.0</td>\n",
       "      <td>0.0</td>\n",
       "      <td>0.0</td>\n",
       "      <td>0.0</td>\n",
       "      <td>0.0</td>\n",
       "      <td>0.0</td>\n",
       "      <td>1.0</td>\n",
       "      <td>0.0</td>\n",
       "      <td>1.0</td>\n",
       "    </tr>\n",
       "    <tr>\n",
       "      <th>2</th>\n",
       "      <td>38.0</td>\n",
       "      <td>9</td>\n",
       "      <td>Divorced</td>\n",
       "      <td>White</td>\n",
       "      <td>Male</td>\n",
       "      <td>40</td>\n",
       "      <td>&lt;=50K</td>\n",
       "      <td>1.0</td>\n",
       "      <td>0.0</td>\n",
       "      <td>0.0</td>\n",
       "      <td>...</td>\n",
       "      <td>0.0</td>\n",
       "      <td>0.0</td>\n",
       "      <td>0.0</td>\n",
       "      <td>0.0</td>\n",
       "      <td>0.0</td>\n",
       "      <td>0.0</td>\n",
       "      <td>0.0</td>\n",
       "      <td>1.0</td>\n",
       "      <td>0.0</td>\n",
       "      <td>1.0</td>\n",
       "    </tr>\n",
       "    <tr>\n",
       "      <th>3</th>\n",
       "      <td>53.0</td>\n",
       "      <td>7</td>\n",
       "      <td>Married-civ-spouse</td>\n",
       "      <td>Black</td>\n",
       "      <td>Male</td>\n",
       "      <td>40</td>\n",
       "      <td>&lt;=50K</td>\n",
       "      <td>0.0</td>\n",
       "      <td>0.0</td>\n",
       "      <td>1.0</td>\n",
       "      <td>...</td>\n",
       "      <td>0.0</td>\n",
       "      <td>0.0</td>\n",
       "      <td>0.0</td>\n",
       "      <td>0.0</td>\n",
       "      <td>0.0</td>\n",
       "      <td>1.0</td>\n",
       "      <td>0.0</td>\n",
       "      <td>0.0</td>\n",
       "      <td>0.0</td>\n",
       "      <td>1.0</td>\n",
       "    </tr>\n",
       "    <tr>\n",
       "      <th>4</th>\n",
       "      <td>37.0</td>\n",
       "      <td>14</td>\n",
       "      <td>Married-civ-spouse</td>\n",
       "      <td>White</td>\n",
       "      <td>Female</td>\n",
       "      <td>40</td>\n",
       "      <td>&lt;=50K</td>\n",
       "      <td>0.0</td>\n",
       "      <td>0.0</td>\n",
       "      <td>1.0</td>\n",
       "      <td>...</td>\n",
       "      <td>0.0</td>\n",
       "      <td>0.0</td>\n",
       "      <td>0.0</td>\n",
       "      <td>0.0</td>\n",
       "      <td>0.0</td>\n",
       "      <td>0.0</td>\n",
       "      <td>0.0</td>\n",
       "      <td>1.0</td>\n",
       "      <td>1.0</td>\n",
       "      <td>0.0</td>\n",
       "    </tr>\n",
       "    <tr>\n",
       "      <th>...</th>\n",
       "      <td>...</td>\n",
       "      <td>...</td>\n",
       "      <td>...</td>\n",
       "      <td>...</td>\n",
       "      <td>...</td>\n",
       "      <td>...</td>\n",
       "      <td>...</td>\n",
       "      <td>...</td>\n",
       "      <td>...</td>\n",
       "      <td>...</td>\n",
       "      <td>...</td>\n",
       "      <td>...</td>\n",
       "      <td>...</td>\n",
       "      <td>...</td>\n",
       "      <td>...</td>\n",
       "      <td>...</td>\n",
       "      <td>...</td>\n",
       "      <td>...</td>\n",
       "      <td>...</td>\n",
       "      <td>...</td>\n",
       "      <td>...</td>\n",
       "    </tr>\n",
       "    <tr>\n",
       "      <th>29165</th>\n",
       "      <td>27.0</td>\n",
       "      <td>12</td>\n",
       "      <td>Married-civ-spouse</td>\n",
       "      <td>White</td>\n",
       "      <td>Female</td>\n",
       "      <td>38</td>\n",
       "      <td>&lt;=50K</td>\n",
       "      <td>0.0</td>\n",
       "      <td>0.0</td>\n",
       "      <td>1.0</td>\n",
       "      <td>...</td>\n",
       "      <td>0.0</td>\n",
       "      <td>0.0</td>\n",
       "      <td>0.0</td>\n",
       "      <td>0.0</td>\n",
       "      <td>0.0</td>\n",
       "      <td>0.0</td>\n",
       "      <td>0.0</td>\n",
       "      <td>1.0</td>\n",
       "      <td>1.0</td>\n",
       "      <td>0.0</td>\n",
       "    </tr>\n",
       "    <tr>\n",
       "      <th>29166</th>\n",
       "      <td>40.0</td>\n",
       "      <td>9</td>\n",
       "      <td>Married-civ-spouse</td>\n",
       "      <td>White</td>\n",
       "      <td>Male</td>\n",
       "      <td>40</td>\n",
       "      <td>&gt;50K</td>\n",
       "      <td>0.0</td>\n",
       "      <td>0.0</td>\n",
       "      <td>1.0</td>\n",
       "      <td>...</td>\n",
       "      <td>0.0</td>\n",
       "      <td>0.0</td>\n",
       "      <td>0.0</td>\n",
       "      <td>0.0</td>\n",
       "      <td>0.0</td>\n",
       "      <td>0.0</td>\n",
       "      <td>0.0</td>\n",
       "      <td>1.0</td>\n",
       "      <td>0.0</td>\n",
       "      <td>1.0</td>\n",
       "    </tr>\n",
       "    <tr>\n",
       "      <th>29167</th>\n",
       "      <td>58.0</td>\n",
       "      <td>9</td>\n",
       "      <td>Widowed</td>\n",
       "      <td>White</td>\n",
       "      <td>Female</td>\n",
       "      <td>40</td>\n",
       "      <td>&lt;=50K</td>\n",
       "      <td>0.0</td>\n",
       "      <td>0.0</td>\n",
       "      <td>0.0</td>\n",
       "      <td>...</td>\n",
       "      <td>0.0</td>\n",
       "      <td>0.0</td>\n",
       "      <td>1.0</td>\n",
       "      <td>0.0</td>\n",
       "      <td>0.0</td>\n",
       "      <td>0.0</td>\n",
       "      <td>0.0</td>\n",
       "      <td>1.0</td>\n",
       "      <td>1.0</td>\n",
       "      <td>0.0</td>\n",
       "    </tr>\n",
       "    <tr>\n",
       "      <th>29168</th>\n",
       "      <td>22.0</td>\n",
       "      <td>9</td>\n",
       "      <td>Never-married</td>\n",
       "      <td>White</td>\n",
       "      <td>Male</td>\n",
       "      <td>20</td>\n",
       "      <td>&lt;=50K</td>\n",
       "      <td>0.0</td>\n",
       "      <td>0.0</td>\n",
       "      <td>0.0</td>\n",
       "      <td>...</td>\n",
       "      <td>1.0</td>\n",
       "      <td>0.0</td>\n",
       "      <td>0.0</td>\n",
       "      <td>0.0</td>\n",
       "      <td>0.0</td>\n",
       "      <td>0.0</td>\n",
       "      <td>0.0</td>\n",
       "      <td>1.0</td>\n",
       "      <td>0.0</td>\n",
       "      <td>1.0</td>\n",
       "    </tr>\n",
       "    <tr>\n",
       "      <th>29169</th>\n",
       "      <td>52.0</td>\n",
       "      <td>9</td>\n",
       "      <td>Married-civ-spouse</td>\n",
       "      <td>White</td>\n",
       "      <td>Female</td>\n",
       "      <td>40</td>\n",
       "      <td>&gt;50K</td>\n",
       "      <td>0.0</td>\n",
       "      <td>0.0</td>\n",
       "      <td>1.0</td>\n",
       "      <td>...</td>\n",
       "      <td>0.0</td>\n",
       "      <td>0.0</td>\n",
       "      <td>0.0</td>\n",
       "      <td>0.0</td>\n",
       "      <td>0.0</td>\n",
       "      <td>0.0</td>\n",
       "      <td>0.0</td>\n",
       "      <td>1.0</td>\n",
       "      <td>1.0</td>\n",
       "      <td>0.0</td>\n",
       "    </tr>\n",
       "  </tbody>\n",
       "</table>\n",
       "<p>29170 rows × 21 columns</p>\n",
       "</div>"
      ],
      "text/plain": [
       "       idade  tempo_educacao        estado_civil    cor    sexo  \\\n",
       "0       39.0              13       Never-married  White    Male   \n",
       "1       50.0              13  Married-civ-spouse  White    Male   \n",
       "2       38.0               9            Divorced  White    Male   \n",
       "3       53.0               7  Married-civ-spouse  Black    Male   \n",
       "4       37.0              14  Married-civ-spouse  White  Female   \n",
       "...      ...             ...                 ...    ...     ...   \n",
       "29165   27.0              12  Married-civ-spouse  White  Female   \n",
       "29166   40.0               9  Married-civ-spouse  White    Male   \n",
       "29167   58.0               9             Widowed  White  Female   \n",
       "29168   22.0               9       Never-married  White    Male   \n",
       "29169   52.0               9  Married-civ-spouse  White  Female   \n",
       "\n",
       "       horas_por_semana salario_anual  Divorced  Married-AF-spouse  \\\n",
       "0                    40         <=50K       0.0                0.0   \n",
       "1                    13         <=50K       0.0                0.0   \n",
       "2                    40         <=50K       1.0                0.0   \n",
       "3                    40         <=50K       0.0                0.0   \n",
       "4                    40         <=50K       0.0                0.0   \n",
       "...                 ...           ...       ...                ...   \n",
       "29165                38         <=50K       0.0                0.0   \n",
       "29166                40          >50K       0.0                0.0   \n",
       "29167                40         <=50K       0.0                0.0   \n",
       "29168                20         <=50K       0.0                0.0   \n",
       "29169                40          >50K       0.0                0.0   \n",
       "\n",
       "       Married-civ-spouse  ...  Never-married  Separated  Widowed  \\\n",
       "0                     0.0  ...            1.0        0.0      0.0   \n",
       "1                     1.0  ...            0.0        0.0      0.0   \n",
       "2                     0.0  ...            0.0        0.0      0.0   \n",
       "3                     1.0  ...            0.0        0.0      0.0   \n",
       "4                     1.0  ...            0.0        0.0      0.0   \n",
       "...                   ...  ...            ...        ...      ...   \n",
       "29165                 1.0  ...            0.0        0.0      0.0   \n",
       "29166                 1.0  ...            0.0        0.0      0.0   \n",
       "29167                 0.0  ...            0.0        0.0      1.0   \n",
       "29168                 0.0  ...            1.0        0.0      0.0   \n",
       "29169                 1.0  ...            0.0        0.0      0.0   \n",
       "\n",
       "       Amer-Indian-Eskimo  Asian-Pac-Islander  Black  Other  White  Female  \\\n",
       "0                     0.0                 0.0    0.0    0.0    1.0     0.0   \n",
       "1                     0.0                 0.0    0.0    0.0    1.0     0.0   \n",
       "2                     0.0                 0.0    0.0    0.0    1.0     0.0   \n",
       "3                     0.0                 0.0    1.0    0.0    0.0     0.0   \n",
       "4                     0.0                 0.0    0.0    0.0    1.0     1.0   \n",
       "...                   ...                 ...    ...    ...    ...     ...   \n",
       "29165                 0.0                 0.0    0.0    0.0    1.0     1.0   \n",
       "29166                 0.0                 0.0    0.0    0.0    1.0     0.0   \n",
       "29167                 0.0                 0.0    0.0    0.0    1.0     1.0   \n",
       "29168                 0.0                 0.0    0.0    0.0    1.0     0.0   \n",
       "29169                 0.0                 0.0    0.0    0.0    1.0     1.0   \n",
       "\n",
       "       Male  \n",
       "0       1.0  \n",
       "1       1.0  \n",
       "2       1.0  \n",
       "3       1.0  \n",
       "4       0.0  \n",
       "...     ...  \n",
       "29165   0.0  \n",
       "29166   1.0  \n",
       "29167   0.0  \n",
       "29168   1.0  \n",
       "29169   0.0  \n",
       "\n",
       "[29170 rows x 21 columns]"
      ]
     },
     "execution_count": 52,
     "metadata": {},
     "output_type": "execute_result"
    }
   ],
   "source": [
    "pd.concat([df_limpo,df_ohe,df_ohe_cor,df_ohe_sexo], axis=1)"
   ]
  },
  {
   "cell_type": "code",
   "execution_count": null,
   "metadata": {
    "id": "elX_5MCuA_67",
    "outputId": "01571d97-92d5-49b9-d286-259abc3dedab"
   },
   "outputs": [
    {
     "data": {
      "image/png": "[encoded data removed]",
      "text/plain": [
       "<Figure size 576x432 with 1 Axes>"
      ]
     },
     "metadata": {
      "needs_background": "light"
     },
     "output_type": "display_data"
    }
   ],
   "source": [
    "#9 - Detecte e elimine os outliers da variável 'idade'.\n",
    "plt.figure(figsize=[8,6])\n",
    "plt.title(\"Boxplot - Idade\", fontsize = 14, fontweight=\"bold\")\n",
    "plt.boxplot(df_limpo.idade)\n",
    "plt.show()"
   ]
  },
  {
   "cell_type": "code",
   "execution_count": null,
   "metadata": {
    "id": "2exS1-JLA_68",
    "outputId": "0784455e-20b4-4ae9-d4f6-15ef2dc9eb79"
   },
   "outputs": [
    {
     "data": {
      "text/plain": [
       "20.0"
      ]
     },
     "execution_count": 54,
     "metadata": {},
     "output_type": "execute_result"
    }
   ],
   "source": [
    "int_qrt = np.percentile(df_limpo.idade,75)-np.percentile(df_limpo.idade,25)\n",
    "int_qrt"
   ]
  },
  {
   "cell_type": "code",
   "execution_count": null,
   "metadata": {
    "id": "VrJaoYa5A_68",
    "outputId": "0be82d69-4665-4552-af18-19303bb6dd77"
   },
   "outputs": [
    {
     "data": {
      "text/plain": [
       "17.0"
      ]
     },
     "execution_count": 55,
     "metadata": {},
     "output_type": "execute_result"
    }
   ],
   "source": [
    "li = np.maximum(np.percentile(df_limpo.idade,25)- 1.5 * int_qrt, np.min(df_limpo.idade))\n",
    "li"
   ]
  },
  {
   "cell_type": "code",
   "execution_count": null,
   "metadata": {
    "id": "ssJIgRmnA_68",
    "outputId": "58b323ab-3eed-40cc-a7b6-eb413ddb5c63"
   },
   "outputs": [
    {
     "data": {
      "text/plain": [
       "78.0"
      ]
     },
     "execution_count": 56,
     "metadata": {},
     "output_type": "execute_result"
    }
   ],
   "source": [
    "ls = np.minimum(np.percentile(df_limpo.idade,75)+ 1.5 * int_qrt, np.max(df_limpo.idade))\n",
    "ls"
   ]
  },
  {
   "cell_type": "code",
   "execution_count": null,
   "metadata": {
    "id": "e9qsr5XhA_69"
   },
   "outputs": [],
   "source": [
    "#função que pega o intervalo interquartil entre 25-75 e os valores discrepantes\n",
    "def detecta_outlier(x, limite = 1.5):\n",
    "    intervalo = np.percentile(x,75) - np.percentile(x,25)\n",
    "    limite_inf = np.maximum(np.percentile(x,25) - limite * intervalo, np.min(x))\n",
    "    limite_sup = np.minimum(np.percentile(x,75) + limite * intervalo, np.max(x))\n",
    "    return np.where((x<limite_inf)|(x>limite_sup), 1, 0)"
   ]
  },
  {
   "cell_type": "code",
   "execution_count": null,
   "metadata": {
    "id": "TB2e3Dw5A_69",
    "outputId": "099a8002-60ad-40c2-83fa-9deb7625e89a"
   },
   "outputs": [
    {
     "data": {
      "text/html": [
       "<div>\n",
       "<style scoped>\n",
       "    .dataframe tbody tr th:only-of-type {\n",
       "        vertical-align: middle;\n",
       "    }\n",
       "\n",
       "    .dataframe tbody tr th {\n",
       "        vertical-align: top;\n",
       "    }\n",
       "\n",
       "    .dataframe thead th {\n",
       "        text-align: right;\n",
       "    }\n",
       "</style>\n",
       "<table border=\"1\" class=\"dataframe\">\n",
       "  <thead>\n",
       "    <tr style=\"text-align: right;\">\n",
       "      <th></th>\n",
       "      <th>idade</th>\n",
       "      <th>tempo_educacao</th>\n",
       "      <th>estado_civil</th>\n",
       "      <th>cor</th>\n",
       "      <th>sexo</th>\n",
       "      <th>horas_por_semana</th>\n",
       "      <th>salario_anual</th>\n",
       "      <th>outlier_idade</th>\n",
       "    </tr>\n",
       "  </thead>\n",
       "  <tbody>\n",
       "    <tr>\n",
       "      <th>0</th>\n",
       "      <td>39.0</td>\n",
       "      <td>13</td>\n",
       "      <td>Never-married</td>\n",
       "      <td>White</td>\n",
       "      <td>Male</td>\n",
       "      <td>40</td>\n",
       "      <td>&lt;=50K</td>\n",
       "      <td>0</td>\n",
       "    </tr>\n",
       "    <tr>\n",
       "      <th>1</th>\n",
       "      <td>50.0</td>\n",
       "      <td>13</td>\n",
       "      <td>Married-civ-spouse</td>\n",
       "      <td>White</td>\n",
       "      <td>Male</td>\n",
       "      <td>13</td>\n",
       "      <td>&lt;=50K</td>\n",
       "      <td>0</td>\n",
       "    </tr>\n",
       "    <tr>\n",
       "      <th>2</th>\n",
       "      <td>38.0</td>\n",
       "      <td>9</td>\n",
       "      <td>Divorced</td>\n",
       "      <td>White</td>\n",
       "      <td>Male</td>\n",
       "      <td>40</td>\n",
       "      <td>&lt;=50K</td>\n",
       "      <td>0</td>\n",
       "    </tr>\n",
       "    <tr>\n",
       "      <th>3</th>\n",
       "      <td>53.0</td>\n",
       "      <td>7</td>\n",
       "      <td>Married-civ-spouse</td>\n",
       "      <td>Black</td>\n",
       "      <td>Male</td>\n",
       "      <td>40</td>\n",
       "      <td>&lt;=50K</td>\n",
       "      <td>0</td>\n",
       "    </tr>\n",
       "    <tr>\n",
       "      <th>4</th>\n",
       "      <td>37.0</td>\n",
       "      <td>14</td>\n",
       "      <td>Married-civ-spouse</td>\n",
       "      <td>White</td>\n",
       "      <td>Female</td>\n",
       "      <td>40</td>\n",
       "      <td>&lt;=50K</td>\n",
       "      <td>0</td>\n",
       "    </tr>\n",
       "    <tr>\n",
       "      <th>...</th>\n",
       "      <td>...</td>\n",
       "      <td>...</td>\n",
       "      <td>...</td>\n",
       "      <td>...</td>\n",
       "      <td>...</td>\n",
       "      <td>...</td>\n",
       "      <td>...</td>\n",
       "      <td>...</td>\n",
       "    </tr>\n",
       "    <tr>\n",
       "      <th>29165</th>\n",
       "      <td>27.0</td>\n",
       "      <td>12</td>\n",
       "      <td>Married-civ-spouse</td>\n",
       "      <td>White</td>\n",
       "      <td>Female</td>\n",
       "      <td>38</td>\n",
       "      <td>&lt;=50K</td>\n",
       "      <td>0</td>\n",
       "    </tr>\n",
       "    <tr>\n",
       "      <th>29166</th>\n",
       "      <td>40.0</td>\n",
       "      <td>9</td>\n",
       "      <td>Married-civ-spouse</td>\n",
       "      <td>White</td>\n",
       "      <td>Male</td>\n",
       "      <td>40</td>\n",
       "      <td>&gt;50K</td>\n",
       "      <td>0</td>\n",
       "    </tr>\n",
       "    <tr>\n",
       "      <th>29167</th>\n",
       "      <td>58.0</td>\n",
       "      <td>9</td>\n",
       "      <td>Widowed</td>\n",
       "      <td>White</td>\n",
       "      <td>Female</td>\n",
       "      <td>40</td>\n",
       "      <td>&lt;=50K</td>\n",
       "      <td>0</td>\n",
       "    </tr>\n",
       "    <tr>\n",
       "      <th>29168</th>\n",
       "      <td>22.0</td>\n",
       "      <td>9</td>\n",
       "      <td>Never-married</td>\n",
       "      <td>White</td>\n",
       "      <td>Male</td>\n",
       "      <td>20</td>\n",
       "      <td>&lt;=50K</td>\n",
       "      <td>0</td>\n",
       "    </tr>\n",
       "    <tr>\n",
       "      <th>29169</th>\n",
       "      <td>52.0</td>\n",
       "      <td>9</td>\n",
       "      <td>Married-civ-spouse</td>\n",
       "      <td>White</td>\n",
       "      <td>Female</td>\n",
       "      <td>40</td>\n",
       "      <td>&gt;50K</td>\n",
       "      <td>0</td>\n",
       "    </tr>\n",
       "  </tbody>\n",
       "</table>\n",
       "<p>29170 rows × 8 columns</p>\n",
       "</div>"
      ],
      "text/plain": [
       "       idade  tempo_educacao        estado_civil    cor    sexo  \\\n",
       "0       39.0              13       Never-married  White    Male   \n",
       "1       50.0              13  Married-civ-spouse  White    Male   \n",
       "2       38.0               9            Divorced  White    Male   \n",
       "3       53.0               7  Married-civ-spouse  Black    Male   \n",
       "4       37.0              14  Married-civ-spouse  White  Female   \n",
       "...      ...             ...                 ...    ...     ...   \n",
       "29165   27.0              12  Married-civ-spouse  White  Female   \n",
       "29166   40.0               9  Married-civ-spouse  White    Male   \n",
       "29167   58.0               9             Widowed  White  Female   \n",
       "29168   22.0               9       Never-married  White    Male   \n",
       "29169   52.0               9  Married-civ-spouse  White  Female   \n",
       "\n",
       "       horas_por_semana salario_anual  outlier_idade  \n",
       "0                    40         <=50K              0  \n",
       "1                    13         <=50K              0  \n",
       "2                    40         <=50K              0  \n",
       "3                    40         <=50K              0  \n",
       "4                    40         <=50K              0  \n",
       "...                 ...           ...            ...  \n",
       "29165                38         <=50K              0  \n",
       "29166                40          >50K              0  \n",
       "29167                40         <=50K              0  \n",
       "29168                20         <=50K              0  \n",
       "29169                40          >50K              0  \n",
       "\n",
       "[29170 rows x 8 columns]"
      ]
     },
     "execution_count": 58,
     "metadata": {},
     "output_type": "execute_result"
    }
   ],
   "source": [
    "df_limpo['outlier_idade'] = detecta_outlier(df_limpo.idade)\n",
    "df_limpo"
   ]
  },
  {
   "cell_type": "code",
   "execution_count": null,
   "metadata": {
    "id": "J04Du-2eA_6-",
    "outputId": "0e3e1b5a-a3be-461a-e470-6a450929ebdd"
   },
   "outputs": [
    {
     "data": {
      "text/html": [
       "<div>\n",
       "<style scoped>\n",
       "    .dataframe tbody tr th:only-of-type {\n",
       "        vertical-align: middle;\n",
       "    }\n",
       "\n",
       "    .dataframe tbody tr th {\n",
       "        vertical-align: top;\n",
       "    }\n",
       "\n",
       "    .dataframe thead th {\n",
       "        text-align: right;\n",
       "    }\n",
       "</style>\n",
       "<table border=\"1\" class=\"dataframe\">\n",
       "  <thead>\n",
       "    <tr style=\"text-align: right;\">\n",
       "      <th></th>\n",
       "      <th>idade</th>\n",
       "      <th>tempo_educacao</th>\n",
       "      <th>estado_civil</th>\n",
       "      <th>cor</th>\n",
       "      <th>sexo</th>\n",
       "      <th>horas_por_semana</th>\n",
       "      <th>salario_anual</th>\n",
       "      <th>outlier_idade</th>\n",
       "    </tr>\n",
       "  </thead>\n",
       "  <tbody>\n",
       "    <tr>\n",
       "      <th>61</th>\n",
       "      <td>79.0</td>\n",
       "      <td>10</td>\n",
       "      <td>Married-civ-spouse</td>\n",
       "      <td>White</td>\n",
       "      <td>Male</td>\n",
       "      <td>20</td>\n",
       "      <td>&lt;=50K</td>\n",
       "      <td>1</td>\n",
       "    </tr>\n",
       "    <tr>\n",
       "      <th>193</th>\n",
       "      <td>90.0</td>\n",
       "      <td>9</td>\n",
       "      <td>Never-married</td>\n",
       "      <td>Black</td>\n",
       "      <td>Male</td>\n",
       "      <td>40</td>\n",
       "      <td>&lt;=50K</td>\n",
       "      <td>1</td>\n",
       "    </tr>\n",
       "    <tr>\n",
       "      <th>380</th>\n",
       "      <td>80.0</td>\n",
       "      <td>9</td>\n",
       "      <td>Widowed</td>\n",
       "      <td>White</td>\n",
       "      <td>Male</td>\n",
       "      <td>24</td>\n",
       "      <td>&lt;=50K</td>\n",
       "      <td>1</td>\n",
       "    </tr>\n",
       "    <tr>\n",
       "      <th>826</th>\n",
       "      <td>81.0</td>\n",
       "      <td>9</td>\n",
       "      <td>Married-civ-spouse</td>\n",
       "      <td>White</td>\n",
       "      <td>Male</td>\n",
       "      <td>30</td>\n",
       "      <td>&lt;=50K</td>\n",
       "      <td>1</td>\n",
       "    </tr>\n",
       "    <tr>\n",
       "      <th>936</th>\n",
       "      <td>90.0</td>\n",
       "      <td>9</td>\n",
       "      <td>Never-married</td>\n",
       "      <td>White</td>\n",
       "      <td>Female</td>\n",
       "      <td>40</td>\n",
       "      <td>&lt;=50K</td>\n",
       "      <td>1</td>\n",
       "    </tr>\n",
       "    <tr>\n",
       "      <th>...</th>\n",
       "      <td>...</td>\n",
       "      <td>...</td>\n",
       "      <td>...</td>\n",
       "      <td>...</td>\n",
       "      <td>...</td>\n",
       "      <td>...</td>\n",
       "      <td>...</td>\n",
       "      <td>...</td>\n",
       "    </tr>\n",
       "    <tr>\n",
       "      <th>28517</th>\n",
       "      <td>80.0</td>\n",
       "      <td>12</td>\n",
       "      <td>Married-civ-spouse</td>\n",
       "      <td>White</td>\n",
       "      <td>Male</td>\n",
       "      <td>4</td>\n",
       "      <td>&lt;=50K</td>\n",
       "      <td>1</td>\n",
       "    </tr>\n",
       "    <tr>\n",
       "      <th>28535</th>\n",
       "      <td>82.0</td>\n",
       "      <td>9</td>\n",
       "      <td>Married-civ-spouse</td>\n",
       "      <td>White</td>\n",
       "      <td>Male</td>\n",
       "      <td>20</td>\n",
       "      <td>&lt;=50K</td>\n",
       "      <td>1</td>\n",
       "    </tr>\n",
       "    <tr>\n",
       "      <th>28920</th>\n",
       "      <td>90.0</td>\n",
       "      <td>9</td>\n",
       "      <td>Widowed</td>\n",
       "      <td>White</td>\n",
       "      <td>Female</td>\n",
       "      <td>25</td>\n",
       "      <td>&lt;=50K</td>\n",
       "      <td>1</td>\n",
       "    </tr>\n",
       "    <tr>\n",
       "      <th>28996</th>\n",
       "      <td>90.0</td>\n",
       "      <td>4</td>\n",
       "      <td>Married-civ-spouse</td>\n",
       "      <td>White</td>\n",
       "      <td>Male</td>\n",
       "      <td>40</td>\n",
       "      <td>&lt;=50K</td>\n",
       "      <td>1</td>\n",
       "    </tr>\n",
       "    <tr>\n",
       "      <th>29109</th>\n",
       "      <td>82.0</td>\n",
       "      <td>9</td>\n",
       "      <td>Never-married</td>\n",
       "      <td>White</td>\n",
       "      <td>Male</td>\n",
       "      <td>3</td>\n",
       "      <td>&lt;=50K</td>\n",
       "      <td>1</td>\n",
       "    </tr>\n",
       "  </tbody>\n",
       "</table>\n",
       "<p>126 rows × 8 columns</p>\n",
       "</div>"
      ],
      "text/plain": [
       "       idade  tempo_educacao        estado_civil    cor    sexo  \\\n",
       "61      79.0              10  Married-civ-spouse  White    Male   \n",
       "193     90.0               9       Never-married  Black    Male   \n",
       "380     80.0               9             Widowed  White    Male   \n",
       "826     81.0               9  Married-civ-spouse  White    Male   \n",
       "936     90.0               9       Never-married  White  Female   \n",
       "...      ...             ...                 ...    ...     ...   \n",
       "28517   80.0              12  Married-civ-spouse  White    Male   \n",
       "28535   82.0               9  Married-civ-spouse  White    Male   \n",
       "28920   90.0               9             Widowed  White  Female   \n",
       "28996   90.0               4  Married-civ-spouse  White    Male   \n",
       "29109   82.0               9       Never-married  White    Male   \n",
       "\n",
       "       horas_por_semana salario_anual  outlier_idade  \n",
       "61                   20         <=50K              1  \n",
       "193                  40         <=50K              1  \n",
       "380                  24         <=50K              1  \n",
       "826                  30         <=50K              1  \n",
       "936                  40         <=50K              1  \n",
       "...                 ...           ...            ...  \n",
       "28517                 4         <=50K              1  \n",
       "28535                20         <=50K              1  \n",
       "28920                25         <=50K              1  \n",
       "28996                40         <=50K              1  \n",
       "29109                 3         <=50K              1  \n",
       "\n",
       "[126 rows x 8 columns]"
      ]
     },
     "execution_count": 59,
     "metadata": {},
     "output_type": "execute_result"
    }
   ],
   "source": [
    "df_limpo[(df_limpo.outlier_idade==1)]"
   ]
  },
  {
   "cell_type": "code",
   "execution_count": null,
   "metadata": {
    "id": "H6UuFvfUA_6_"
   },
   "outputs": [],
   "source": []
  },
  {
   "cell_type": "code",
   "execution_count": null,
   "metadata": {
    "id": "6SvA-6U7A_6_"
   },
   "outputs": [],
   "source": [
    "#10 - Escreva uma função que receba o dataframe em sua forma original e retorne o dataframe modificado, \n",
    "#após todas as transformações dos itens acima."
   ]
  },
  {
   "cell_type": "code",
   "execution_count": null,
   "metadata": {
    "id": "mUWLS1DXA_6_"
   },
   "outputs": [],
   "source": [
    "def Preprocessamento(df, cols_mean, cols_mode):\n",
    "    df_nv = df.copy()\n",
    "    trat1 = (df.isnull().sum()/df.shape[0])>=0.7\n",
    "    var_drop = trat1.loc[trat1==True].index.tolist()\n",
    "    \n",
    "    for x in var_drop:\n",
    "        df_nv = df_nv.drop(x,axis=1)\n",
    "    \n",
    "    cols_mean = list(set(cols_mean).intersection(set(df_nv.columns.tolist())))\n",
    "    cols_mode = list(set(cols_mode).intersection(set(df_nv.columns.tolist()))) \n",
    "    \n",
    "    for x in cols_mean:\n",
    "        df_nv[x] = df_nv[x].fillna(df_nv[x].mean())\n",
    "        \n",
    "    for x in cols_mode:\n",
    "        mode_x = df_nv[x].value_counts().idxmax()\n",
    "        cols_mode = df_nv[x].replace(['?'], mode_x)\n",
    "        \n",
    "    return df_nv\n",
    "\n",
    "#df_limpo['sexo'].replace(['?'],moda_sexo),  | df_nv[x] = df_nv[x].fillna(mode_x) "
   ]
  },
  {
   "cell_type": "code",
   "execution_count": null,
   "metadata": {
    "id": "ADF36OQmA_7A"
   },
   "outputs": [],
   "source": [
    "def Preprocessamento3(df, var_mode):\n",
    "    df_nv = df.copy()\n",
    "    trat1 = (df.isnull().sum()/df.shape[0])>=0.6\n",
    "    trat2 = (df.isnull().sum()/df.shape[0])>=0.9\n",
    "    trat3 = (df.isnull().sum()/df.shape[0])>=0.99\n",
    "    var_drop = trat1.loc[trat1==True].index.tolist()\n",
    "    var_mean = trat2.loc[trat2==True].index.tolist()\n",
    "    #var_mode = trat3.loc[trat3==True].index.tolist()\n",
    "    \n",
    "    for x in var_drop:\n",
    "        df_nv = df_nv.drop(x,axis=1)\n",
    "            \n",
    "    for x in var_mean:\n",
    "        df_nv = df_nv.fillna(df.mean())\n",
    "        \n",
    "    var_mode = list(set(var_mode).intersection(set(df_nv.columns.tolist()))) \n",
    "       \n",
    "    for x in var_mode:\n",
    "        mode = df_nv[x].value_counts().idxmax()\n",
    "        df_nv[x] = df_nv[x].replace(['?'],mode)\n",
    "\n",
    "    return df_nv"
   ]
  },
  {
   "cell_type": "code",
   "execution_count": null,
   "metadata": {
    "id": "yHrgq4dTA_7A",
    "outputId": "6125729d-450d-422d-950a-f628d0c251d4"
   },
   "outputs": [
    {
     "data": {
      "text/html": [
       "<div>\n",
       "<style scoped>\n",
       "    .dataframe tbody tr th:only-of-type {\n",
       "        vertical-align: middle;\n",
       "    }\n",
       "\n",
       "    .dataframe tbody tr th {\n",
       "        vertical-align: top;\n",
       "    }\n",
       "\n",
       "    .dataframe thead th {\n",
       "        text-align: right;\n",
       "    }\n",
       "</style>\n",
       "<table border=\"1\" class=\"dataframe\">\n",
       "  <thead>\n",
       "    <tr style=\"text-align: right;\">\n",
       "      <th></th>\n",
       "      <th>idade</th>\n",
       "      <th>tempo_educacao</th>\n",
       "      <th>estado_civil</th>\n",
       "      <th>cor</th>\n",
       "      <th>sexo</th>\n",
       "      <th>horas_por_semana</th>\n",
       "      <th>salario_anual</th>\n",
       "    </tr>\n",
       "  </thead>\n",
       "  <tbody>\n",
       "    <tr>\n",
       "      <th>0</th>\n",
       "      <td>39.0</td>\n",
       "      <td>13</td>\n",
       "      <td>Never-married</td>\n",
       "      <td>White</td>\n",
       "      <td>Male</td>\n",
       "      <td>40</td>\n",
       "      <td>&lt;=50K</td>\n",
       "    </tr>\n",
       "    <tr>\n",
       "      <th>1</th>\n",
       "      <td>50.0</td>\n",
       "      <td>13</td>\n",
       "      <td>Married-civ-spouse</td>\n",
       "      <td>White</td>\n",
       "      <td>Male</td>\n",
       "      <td>13</td>\n",
       "      <td>&lt;=50K</td>\n",
       "    </tr>\n",
       "    <tr>\n",
       "      <th>2</th>\n",
       "      <td>38.0</td>\n",
       "      <td>9</td>\n",
       "      <td>Divorced</td>\n",
       "      <td>White</td>\n",
       "      <td>Male</td>\n",
       "      <td>40</td>\n",
       "      <td>&lt;=50K</td>\n",
       "    </tr>\n",
       "    <tr>\n",
       "      <th>3</th>\n",
       "      <td>53.0</td>\n",
       "      <td>7</td>\n",
       "      <td>Married-civ-spouse</td>\n",
       "      <td>Black</td>\n",
       "      <td>Male</td>\n",
       "      <td>40</td>\n",
       "      <td>&lt;=50K</td>\n",
       "    </tr>\n",
       "    <tr>\n",
       "      <th>4</th>\n",
       "      <td>37.0</td>\n",
       "      <td>14</td>\n",
       "      <td>Married-civ-spouse</td>\n",
       "      <td>White</td>\n",
       "      <td>Female</td>\n",
       "      <td>40</td>\n",
       "      <td>&lt;=50K</td>\n",
       "    </tr>\n",
       "    <tr>\n",
       "      <th>...</th>\n",
       "      <td>...</td>\n",
       "      <td>...</td>\n",
       "      <td>...</td>\n",
       "      <td>...</td>\n",
       "      <td>...</td>\n",
       "      <td>...</td>\n",
       "      <td>...</td>\n",
       "    </tr>\n",
       "    <tr>\n",
       "      <th>29165</th>\n",
       "      <td>27.0</td>\n",
       "      <td>12</td>\n",
       "      <td>Married-civ-spouse</td>\n",
       "      <td>White</td>\n",
       "      <td>Female</td>\n",
       "      <td>38</td>\n",
       "      <td>&lt;=50K</td>\n",
       "    </tr>\n",
       "    <tr>\n",
       "      <th>29166</th>\n",
       "      <td>40.0</td>\n",
       "      <td>9</td>\n",
       "      <td>Married-civ-spouse</td>\n",
       "      <td>White</td>\n",
       "      <td>Male</td>\n",
       "      <td>40</td>\n",
       "      <td>&gt;50K</td>\n",
       "    </tr>\n",
       "    <tr>\n",
       "      <th>29167</th>\n",
       "      <td>58.0</td>\n",
       "      <td>9</td>\n",
       "      <td>Widowed</td>\n",
       "      <td>White</td>\n",
       "      <td>Female</td>\n",
       "      <td>40</td>\n",
       "      <td>&lt;=50K</td>\n",
       "    </tr>\n",
       "    <tr>\n",
       "      <th>29168</th>\n",
       "      <td>22.0</td>\n",
       "      <td>9</td>\n",
       "      <td>Never-married</td>\n",
       "      <td>White</td>\n",
       "      <td>Male</td>\n",
       "      <td>20</td>\n",
       "      <td>&lt;=50K</td>\n",
       "    </tr>\n",
       "    <tr>\n",
       "      <th>29169</th>\n",
       "      <td>52.0</td>\n",
       "      <td>9</td>\n",
       "      <td>Married-civ-spouse</td>\n",
       "      <td>White</td>\n",
       "      <td>Female</td>\n",
       "      <td>40</td>\n",
       "      <td>&gt;50K</td>\n",
       "    </tr>\n",
       "  </tbody>\n",
       "</table>\n",
       "<p>29170 rows × 7 columns</p>\n",
       "</div>"
      ],
      "text/plain": [
       "       idade  tempo_educacao        estado_civil    cor    sexo  \\\n",
       "0       39.0              13       Never-married  White    Male   \n",
       "1       50.0              13  Married-civ-spouse  White    Male   \n",
       "2       38.0               9            Divorced  White    Male   \n",
       "3       53.0               7  Married-civ-spouse  Black    Male   \n",
       "4       37.0              14  Married-civ-spouse  White  Female   \n",
       "...      ...             ...                 ...    ...     ...   \n",
       "29165   27.0              12  Married-civ-spouse  White  Female   \n",
       "29166   40.0               9  Married-civ-spouse  White    Male   \n",
       "29167   58.0               9             Widowed  White  Female   \n",
       "29168   22.0               9       Never-married  White    Male   \n",
       "29169   52.0               9  Married-civ-spouse  White  Female   \n",
       "\n",
       "       horas_por_semana salario_anual  \n",
       "0                    40         <=50K  \n",
       "1                    13         <=50K  \n",
       "2                    40         <=50K  \n",
       "3                    40         <=50K  \n",
       "4                    40         <=50K  \n",
       "...                 ...           ...  \n",
       "29165                38         <=50K  \n",
       "29166                40          >50K  \n",
       "29167                40         <=50K  \n",
       "29168                20         <=50K  \n",
       "29169                40          >50K  \n",
       "\n",
       "[29170 rows x 7 columns]"
      ]
     },
     "execution_count": 195,
     "metadata": {},
     "output_type": "execute_result"
    }
   ],
   "source": [
    "df_prep0 = Preprocessamento(df = df,\n",
    "                           cols_mean = ['idade'],\n",
    "                           cols_mode = ['sexo'])\n",
    "\n",
    "df_prep0"
   ]
  },
  {
   "cell_type": "code",
   "execution_count": null,
   "metadata": {
    "id": "pfM1sz37A_7B",
    "outputId": "775564eb-3d54-443e-fdfc-441cd5fe596b"
   },
   "outputs": [
    {
     "data": {
      "text/html": [
       "<div>\n",
       "<style scoped>\n",
       "    .dataframe tbody tr th:only-of-type {\n",
       "        vertical-align: middle;\n",
       "    }\n",
       "\n",
       "    .dataframe tbody tr th {\n",
       "        vertical-align: top;\n",
       "    }\n",
       "\n",
       "    .dataframe thead th {\n",
       "        text-align: right;\n",
       "    }\n",
       "</style>\n",
       "<table border=\"1\" class=\"dataframe\">\n",
       "  <thead>\n",
       "    <tr style=\"text-align: right;\">\n",
       "      <th></th>\n",
       "      <th>idade</th>\n",
       "      <th>tempo_educacao</th>\n",
       "      <th>estado_civil</th>\n",
       "      <th>cor</th>\n",
       "      <th>sexo</th>\n",
       "      <th>horas_por_semana</th>\n",
       "      <th>salario_anual</th>\n",
       "    </tr>\n",
       "  </thead>\n",
       "  <tbody>\n",
       "    <tr>\n",
       "      <th>0</th>\n",
       "      <td>39.0</td>\n",
       "      <td>13</td>\n",
       "      <td>Never-married</td>\n",
       "      <td>White</td>\n",
       "      <td>Male</td>\n",
       "      <td>40</td>\n",
       "      <td>&lt;=50K</td>\n",
       "    </tr>\n",
       "    <tr>\n",
       "      <th>1</th>\n",
       "      <td>50.0</td>\n",
       "      <td>13</td>\n",
       "      <td>Married-civ-spouse</td>\n",
       "      <td>White</td>\n",
       "      <td>Male</td>\n",
       "      <td>13</td>\n",
       "      <td>&lt;=50K</td>\n",
       "    </tr>\n",
       "    <tr>\n",
       "      <th>2</th>\n",
       "      <td>38.0</td>\n",
       "      <td>9</td>\n",
       "      <td>Divorced</td>\n",
       "      <td>White</td>\n",
       "      <td>Male</td>\n",
       "      <td>40</td>\n",
       "      <td>&lt;=50K</td>\n",
       "    </tr>\n",
       "    <tr>\n",
       "      <th>3</th>\n",
       "      <td>53.0</td>\n",
       "      <td>7</td>\n",
       "      <td>Married-civ-spouse</td>\n",
       "      <td>Black</td>\n",
       "      <td>Male</td>\n",
       "      <td>40</td>\n",
       "      <td>&lt;=50K</td>\n",
       "    </tr>\n",
       "    <tr>\n",
       "      <th>4</th>\n",
       "      <td>37.0</td>\n",
       "      <td>14</td>\n",
       "      <td>Married-civ-spouse</td>\n",
       "      <td>White</td>\n",
       "      <td>Female</td>\n",
       "      <td>40</td>\n",
       "      <td>&lt;=50K</td>\n",
       "    </tr>\n",
       "    <tr>\n",
       "      <th>...</th>\n",
       "      <td>...</td>\n",
       "      <td>...</td>\n",
       "      <td>...</td>\n",
       "      <td>...</td>\n",
       "      <td>...</td>\n",
       "      <td>...</td>\n",
       "      <td>...</td>\n",
       "    </tr>\n",
       "    <tr>\n",
       "      <th>29165</th>\n",
       "      <td>27.0</td>\n",
       "      <td>12</td>\n",
       "      <td>Married-civ-spouse</td>\n",
       "      <td>White</td>\n",
       "      <td>Female</td>\n",
       "      <td>38</td>\n",
       "      <td>&lt;=50K</td>\n",
       "    </tr>\n",
       "    <tr>\n",
       "      <th>29166</th>\n",
       "      <td>40.0</td>\n",
       "      <td>9</td>\n",
       "      <td>Married-civ-spouse</td>\n",
       "      <td>White</td>\n",
       "      <td>Male</td>\n",
       "      <td>40</td>\n",
       "      <td>&gt;50K</td>\n",
       "    </tr>\n",
       "    <tr>\n",
       "      <th>29167</th>\n",
       "      <td>58.0</td>\n",
       "      <td>9</td>\n",
       "      <td>Widowed</td>\n",
       "      <td>White</td>\n",
       "      <td>Female</td>\n",
       "      <td>40</td>\n",
       "      <td>&lt;=50K</td>\n",
       "    </tr>\n",
       "    <tr>\n",
       "      <th>29168</th>\n",
       "      <td>22.0</td>\n",
       "      <td>9</td>\n",
       "      <td>Never-married</td>\n",
       "      <td>White</td>\n",
       "      <td>Male</td>\n",
       "      <td>20</td>\n",
       "      <td>&lt;=50K</td>\n",
       "    </tr>\n",
       "    <tr>\n",
       "      <th>29169</th>\n",
       "      <td>52.0</td>\n",
       "      <td>9</td>\n",
       "      <td>Married-civ-spouse</td>\n",
       "      <td>White</td>\n",
       "      <td>Female</td>\n",
       "      <td>40</td>\n",
       "      <td>&gt;50K</td>\n",
       "    </tr>\n",
       "  </tbody>\n",
       "</table>\n",
       "<p>29170 rows × 7 columns</p>\n",
       "</div>"
      ],
      "text/plain": [
       "       idade  tempo_educacao        estado_civil    cor    sexo  \\\n",
       "0       39.0              13       Never-married  White    Male   \n",
       "1       50.0              13  Married-civ-spouse  White    Male   \n",
       "2       38.0               9            Divorced  White    Male   \n",
       "3       53.0               7  Married-civ-spouse  Black    Male   \n",
       "4       37.0              14  Married-civ-spouse  White  Female   \n",
       "...      ...             ...                 ...    ...     ...   \n",
       "29165   27.0              12  Married-civ-spouse  White  Female   \n",
       "29166   40.0               9  Married-civ-spouse  White    Male   \n",
       "29167   58.0               9             Widowed  White  Female   \n",
       "29168   22.0               9       Never-married  White    Male   \n",
       "29169   52.0               9  Married-civ-spouse  White  Female   \n",
       "\n",
       "       horas_por_semana salario_anual  \n",
       "0                    40         <=50K  \n",
       "1                    13         <=50K  \n",
       "2                    40         <=50K  \n",
       "3                    40         <=50K  \n",
       "4                    40         <=50K  \n",
       "...                 ...           ...  \n",
       "29165                38         <=50K  \n",
       "29166                40          >50K  \n",
       "29167                40         <=50K  \n",
       "29168                20         <=50K  \n",
       "29169                40          >50K  \n",
       "\n",
       "[29170 rows x 7 columns]"
      ]
     },
     "execution_count": 191,
     "metadata": {},
     "output_type": "execute_result"
    }
   ],
   "source": [
    "df_prep1 = Preprocessamento3(df, var_mode=['sexo'])\n",
    "\n",
    "df_prep1"
   ]
  },
  {
   "cell_type": "markdown",
   "metadata": {},
   "source": [
    "Concluimos o dataset com as seguintes ações:\n",
    "    Efetuando o pre-processamento de dados(tratando valores nulos).\n",
    "    Aplicação de one hot encouder, mim max scaller.\n",
    "    Normalização de dados.\n",
    "    Análise e tratamento de valores discrepantes.\n",
    "    O data está limpo e pronto para etapas seguintes."
   ]
  }
 ],
 "metadata": {
  "colab": {
   "include_colab_link": true,
   "name": "Modulo 7 - Pre-processamento de Dados - Exercicio.ipynb",
   "provenance": []
  },
  "kernelspec": {
   "display_name": "Python 3 (ipykernel)",
   "language": "python",
   "name": "python3"
  },
  "language_info": {
   "codemirror_mode": {
    "name": "ipython",
    "version": 3
   },
   "file_extension": ".py",
   "mimetype": "text/x-python",
   "name": "python",
   "nbconvert_exporter": "python",
   "pygments_lexer": "ipython3",
   "version": "3.9.7"
  }
 },
 "nbformat": 4,
 "nbformat_minor": 1
}
