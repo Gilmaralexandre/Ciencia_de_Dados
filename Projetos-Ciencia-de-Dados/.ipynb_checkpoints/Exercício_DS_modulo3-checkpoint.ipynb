{
 "cells": [
  {
   "cell_type": "markdown",
   "metadata": {
    "colab_type": "text",
    "id": "view-in-github"
   },
   "source": [
    "<a href=\"https://colab.research.google.com/github/Gilmaralexandre/Data-Science-Begginer/blob/main/Exerc%C3%ADcio_DS_modulo3.ipynb\" target=\"_parent\"><img src=\"https://colab.research.google.com/assets/colab-badge.svg\" alt=\"Open In Colab\"/></a>"
   ]
  },
  {
   "cell_type": "markdown",
   "metadata": {
    "id": "XYYLs8tgIzGq"
   },
   "source": [
    "Exercicio1"
   ]
  },
  {
   "cell_type": "code",
   "execution_count": null,
   "metadata": {
    "id": "X-ASR-N2IzGt"
   },
   "outputs": [],
   "source": [
    "def id_pares(lista):\n",
    "    pares = []\n",
    "    for p in lista:\n",
    "        if p % 2 == 0:\n",
    "            pares.append(p)\n",
    "        else: \n",
    "            continue\n",
    "    return pares"
   ]
  },
  {
   "cell_type": "code",
   "execution_count": null,
   "metadata": {
    "id": "ubDX6FuiIzGv",
    "outputId": "054aea95-bc61-480a-fcc6-402bbb1a344f"
   },
   "outputs": [
    {
     "data": {
      "text/plain": [
       "[22, 66, 148]"
      ]
     },
     "execution_count": 26,
     "metadata": {},
     "output_type": "execute_result"
    }
   ],
   "source": [
    "pares_lista = id_pares([22,35,66,148,37])\n",
    "pares_lista"
   ]
  },
  {
   "cell_type": "markdown",
   "metadata": {
    "id": "je4p1NlpIzGx"
   },
   "source": [
    "Exercicio2\n",
    "Prezado(a), não sei se me informo por aqui ou pelo discord, mas queria um material de reforço sobre os conteudos que cairam nesse exercicio, principalmente sobre(\"contador\", só consegui analisando as duvidas do grupo, e o meu rociocinio era parecido com a duvida do aluno, e sobre  erros e exceções, tentei colocar no codigo a classe do erro, não tive sucesso.) Desde já agradeço."
   ]
  },
  {
   "cell_type": "code",
   "execution_count": null,
   "metadata": {
    "id": "Q7f14qt_IzGx"
   },
   "outputs": [],
   "source": [
    "def mega_sena():\n",
    "    from random import randint\n",
    "    try:\n",
    "        n = int(input(\"quantos sorteios deseja realizar: \"))\n",
    "        sorteados =[]\n",
    "        contador =0\n",
    "        while contador <n:\n",
    "            numero_sorteado = randint(1,60)\n",
    "            sorteados.append(numero_sorteado)\n",
    "            contador += 1\n",
    "    except ValueError:\n",
    "        print(\"Informe um numero inteiro\")\n",
    "        print(\"Alerta de erro:(Assim que solucionado o erro, tente novamente!)\")\n",
    "    return sorteados"
   ]
  },
  {
   "cell_type": "code",
   "execution_count": null,
   "metadata": {
    "id": "qdN9hPb0JYAE"
   },
   "outputs": [],
   "source": [
    "from google.colab import drive\n",
    "drive.mount('/content/drive')"
   ]
  },
  {
   "cell_type": "code",
   "execution_count": null,
   "metadata": {
    "colab": {
     "base_uri": "https://localhost:8080/"
    },
    "id": "zGcI5Wd8IzGy",
    "outputId": "5e40f976-d84e-4a71-aae6-9fb0a42c5686"
   },
   "outputs": [
    {
     "name": "stdout",
     "output_type": "stream",
     "text": [
      "quantos sorteios deseja realizar: 6\n",
      "[53, 30, 19, 52, 37, 52]\n"
     ]
    }
   ],
   "source": [
    "sorteados = mega_sena()\n",
    "print(sorteados)"
   ]
  },
  {
   "cell_type": "markdown",
   "metadata": {
    "id": "8GxKL4GVIzGz"
   },
   "source": [
    "Exercicio 3"
   ]
  },
  {
   "cell_type": "code",
   "execution_count": null,
   "metadata": {
    "id": "jcohs7VEIzGz"
   },
   "outputs": [],
   "source": [
    "class Cliente:\n",
    "    \n",
    "    def __init__(self):\n",
    "        self.nome = input(\"Digite seu nome\")\n",
    "        self.saldo = 0\n",
    "        print(self.nome,\",seu saldo é:\", self.saldo)\n",
    "        \n",
    "    def depositar(self):\n",
    "        deposito = float(input(\"qual valor de deposito\"))\n",
    "        self.saldo = self.saldo + deposito\n",
    "        print(\"Saque realizado com sucesso, seu novo saldo é\", self.saldo)\n",
    "    \n",
    "    def sacar(self):\n",
    "        saque = float(input(\"qual o valor do saque\"))\n",
    "        self.saldo = self.saldo - saque\n",
    "        if self.saldo > saque:\n",
    "            print(\"saque realizado com sucesso, seu novo saldo é\", self.saldo)\n",
    "        else:\n",
    "            print(\"Saldo insuficiente\")"
   ]
  },
  {
   "cell_type": "code",
   "execution_count": null,
   "metadata": {
    "id": "HPTpxJm0IzG0",
    "outputId": "1d20bdaa-7870-4935-f1d8-b6223a3bee97"
   },
   "outputs": [
    {
     "name": "stdout",
     "output_type": "stream",
     "text": [
      "Digite seu nomeGilmar\n",
      "Gilmar ,seu saldo é: 0\n"
     ]
    }
   ],
   "source": [
    "cliente1 = Cliente()"
   ]
  },
  {
   "cell_type": "code",
   "execution_count": null,
   "metadata": {
    "id": "RRBDshd1IzG1",
    "outputId": "d89989f0-19a6-4606-d3db-3d68b7dd7bfb"
   },
   "outputs": [
    {
     "name": "stdout",
     "output_type": "stream",
     "text": [
      "qual valor de deposito100\n",
      "Saque realizado com sucesso, seu novo saldo é 100.0\n"
     ]
    }
   ],
   "source": [
    "cliente1.depositar()"
   ]
  },
  {
   "cell_type": "code",
   "execution_count": null,
   "metadata": {
    "id": "KS7rocwhIzG1",
    "outputId": "1b16dca6-5158-4824-985c-f64a491ddf94"
   },
   "outputs": [
    {
     "name": "stdout",
     "output_type": "stream",
     "text": [
      "qual o valor do saque20\n",
      "saque realizado com sucesso, seu novo saldo é 80.0\n"
     ]
    }
   ],
   "source": [
    "cliente1.sacar()"
   ]
  },
  {
   "cell_type": "code",
   "execution_count": null,
   "metadata": {
    "id": "Q-_1Y2XUIzG2"
   },
   "outputs": [],
   "source": []
  }
 ],
 "metadata": {
  "colab": {
   "include_colab_link": true,
   "name": "Exercício_DS - modulo3.ipynb",
   "provenance": []
  },
  "kernelspec": {
   "display_name": "Python 3 (ipykernel)",
   "language": "python",
   "name": "python3"
  },
  "language_info": {
   "codemirror_mode": {
    "name": "ipython",
    "version": 3
   },
   "file_extension": ".py",
   "mimetype": "text/x-python",
   "name": "python",
   "nbconvert_exporter": "python",
   "pygments_lexer": "ipython3",
   "version": "3.9.7"
  }
 },
 "nbformat": 4,
 "nbformat_minor": 1
}
